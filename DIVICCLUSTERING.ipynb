{
  "nbformat": 4,
  "nbformat_minor": 0,
  "metadata": {
    "colab": {
      "provenance": [],
      "authorship_tag": "ABX9TyOeLdP62dHaGPfLjiyzduXm",
      "include_colab_link": true
    },
    "kernelspec": {
      "name": "python3",
      "display_name": "Python 3"
    },
    "language_info": {
      "name": "python"
    }
  },
  "cells": [
    {
      "cell_type": "markdown",
      "metadata": {
        "id": "view-in-github",
        "colab_type": "text"
      },
      "source": [
        "<a href=\"https://colab.research.google.com/github/LucyMariel/Lucy/blob/master/DIVICCLUSTERING.ipynb\" target=\"_parent\"><img src=\"https://colab.research.google.com/assets/colab-badge.svg\" alt=\"Open In Colab\"/></a>"
      ]
    },
    {
      "cell_type": "code",
      "execution_count": null,
      "metadata": {
        "id": "QbvSXt2QxWmJ"
      },
      "outputs": [],
      "source": []
    },
    {
      "cell_type": "markdown",
      "source": [
        "**Understanding K-means through scratches**\n"
      ],
      "metadata": {
        "id": "F6sDkPB9xf0f"
      }
    },
    {
      "cell_type": "markdown",
      "source": [
        "We will create a K-means class from scratch. We will implement the algorithm using only the minimum library such as NumPy.\n",
        "\n",
        "The template is prepared below. Add some code to this ScratchKMeans class."
      ],
      "metadata": {
        "id": "roBUpoWdzhdn"
      }
    },
    {
      "cell_type": "code",
      "source": [
        "class ScratchKMeans():\n",
        "    \"\"\"\n",
        "    K-means scratch implementation\n",
        "\n",
        "    Parameters\n",
        "    ----------\n",
        "    n_clusters : int\n",
        "      Number of clusters\n",
        "    n_init : int\n",
        "      How many times to change the initial value of the center point for calculation\n",
        "    max_iter : int\n",
        "      Maximum number of iterations in one calculation\n",
        "    tol : float\n",
        "      Margin of error between the center point and the center of gravity, which is the reference for ending the iteration\n",
        "    verbose : bool\n",
        "      True to output the learning process\n",
        "    \"\"\"\n",
        "    def __init__(self, n_clusters, n_init, max_iter, tol, verbose=False):\n",
        "        # Record hyperparameters as attributes\n",
        "        self.n_clusters = n_clusters\n",
        "        self.n_init = n_init\n",
        "        self.max_iter = max_iter\n",
        "        self.tol = tol\n",
        "        self.verbose = verbose\n",
        "    def fit(self, X):\n",
        "        \"\"\"\n",
        "        Calculate clustering by K-means\n",
        "        Parameters\n",
        "        ----------\n",
        "        X : The following forms of ndarray, shape (n_samples, n_features)\n",
        "            Features of training data\n",
        "        \"\"\"\n",
        "\n",
        "        if self.verbose:\n",
        "            Output the learning process when #verbose is set to True\n",
        "            print()\n",
        "        pass\n",
        "    def predict(self, X):\n",
        "        \"\"\"\n",
        "        Calculate which cluster the input data belongs to\n",
        "        \"\"\"\n",
        "        pass\n",
        "        return"
      ],
      "metadata": {
        "id": "ls1ScZnpziuC"
      },
      "execution_count": null,
      "outputs": []
    },
    {
      "cell_type": "markdown",
      "source": [
        "Artificial dataset for clustering\n",
        "\n",
        "We have the code to create an artificial dataset for experimenting with clustering.\n",
        "\n",
        "This make_blobs function also outputs the correct label, but this time we will not use it. Received with_ (underscore) to indicate that it will not be used."
      ],
      "metadata": {
        "id": "n87eUC8hzn4_"
      }
    },
    {
      "cell_type": "code",
      "source": [
        "from sklearn.datasets import make_blobs\n",
        "X, _ = make_blobs(n_samples=100, n_features=2, centers=4, cluster_std=0.5, shuffle=True, random_state=0)"
      ],
      "metadata": {
        "id": "yFZu9ZwO1eO_"
      },
      "execution_count": null,
      "outputs": []
    },
    {
      "cell_type": "code",
      "source": [
        "from sklearn.datasets import make_blobs\n",
        "X = make_blobs(n_samples=100, n_features=2, centers=4, cluster_std=0.5, shuffle=True, random_state=0)"
      ],
      "metadata": {
        "id": "6dCkYH0z1qBP"
      },
      "execution_count": 1,
      "outputs": []
    },
    {
      "cell_type": "markdown",
      "source": [
        "Create code that determines the initial value of $ \\ mu_K $ from $ K $ center points $ \\ mu_1 $ from the input data. $ K $ is the specified number of clusters.\n",
        "\n",
        "The simplest way to determine the initial value is to randomly select $ K $ from the $ X_n $ data points. Please implement this this time.\n",
        "\n",
        "The learning result of K-means is affected by the initial value of the center point $ \\ mu $. Therefore, at the time of learning, calculation is performed with multiple initial values."
      ],
      "metadata": {
        "id": "e7aPWa023cZj"
      }
    },
    {
      "cell_type": "code",
      "source": [
        "import numpy as np\n",
        "\n",
        "def initialize_centroids(X, K):\n",
        "    \"\"\"\n",
        "    Initialize K centroids by randomly selecting points from the dataset X.\n",
        "    \"\"\"\n",
        "    np.random.seed(42)  # For reproducibility\n",
        "    random_indices = np.random.permutation(X.shape[0])\n",
        "    centroids = X[random_indices[:K]]\n",
        "    return centroids\n",
        "\n",
        "def assign_clusters(X, centroids):\n",
        "    \"\"\"\n",
        "    Assign each point in X to the nearest centroid.\n",
        "    \"\"\"\n",
        "    distances = np.linalg.norm(X[:, np.newaxis] - centroids, axis=2)\n",
        "    cluster_assignments = np.argmin(distances, axis=1)\n",
        "    return cluster_assignments\n",
        "\n",
        "def update_centroids(X, cluster_assignments, K):\n",
        "    \"\"\"\n",
        "    Update the centroids to be the mean of the points assigned to each cluster.\n",
        "    \"\"\"\n",
        "    new_centroids = np.array([X[cluster_assignments == k].mean(axis=0) for k in range(K)])\n",
        "    return new_centroids\n",
        "\n",
        "def kmeans(X, K, max_iters=100, tol=1e-4):\n",
        "    \"\"\"\n",
        "    Perform K-means clustering on the dataset X with K clusters.\n",
        "    \"\"\"\n",
        "    centroids = initialize_centroids(X, K)\n",
        "    for i in range(max_iters):\n",
        "        old_centroids = centroids\n",
        "        cluster_assignments = assign_clusters(X, centroids)\n",
        "        centroids = update_centroids(X, cluster_assignments, K)\n",
        "\n",
        "        # Check for convergence\n",
        "        if np.all(np.linalg.norm(centroids - old_centroids, axis=1) < tol):\n",
        "            break\n",
        "    return centroids, cluster_assignments\n",
        "\n",
        "# Example usage with a dataset\n",
        "from sklearn.datasets import load_iris\n",
        "\n",
        "# Load Iris dataset and use only the first two features for visualization purposes\n",
        "iris = load_iris()\n",
        "X = iris.data[:, :2]\n",
        "\n",
        "# Number of clusters\n",
        "K = 3\n",
        "\n",
        "# Perform K-means clustering\n",
        "centroids, cluster_assignments = kmeans(X, K)\n",
        "\n",
        "print(\"Centroids:\\n\", centroids)\n",
        "print(\"Cluster assignments:\\n\", cluster_assignments)\n",
        "\n"
      ],
      "metadata": {
        "colab": {
          "base_uri": "https://localhost:8080/"
        },
        "id": "YB3ItAWK3YiX",
        "outputId": "e304be38-5f1e-4163-ee0b-8e84a7f8d6d6"
      },
      "execution_count": 2,
      "outputs": [
        {
          "output_type": "stream",
          "name": "stdout",
          "text": [
            "Centroids:\n",
            " [[5.8        2.7       ]\n",
            " [5.00392157 3.40980392]\n",
            " [6.82391304 3.07826087]]\n",
            "Cluster assignments:\n",
            " [1 1 1 1 1 1 1 1 1 1 1 1 1 1 1 1 1 1 1 1 1 1 1 1 1 1 1 1 1 1 1 1 1 1 1 1 1\n",
            " 1 1 1 1 1 1 1 1 1 1 1 1 1 2 2 2 0 2 0 2 0 2 0 0 0 0 0 0 2 0 0 0 0 0 0 0 0\n",
            " 2 2 2 2 0 0 0 0 0 0 0 0 2 0 0 0 0 0 0 0 0 0 0 0 0 0 2 0 2 0 2 2 1 2 2 2 2\n",
            " 2 2 0 0 2 2 2 2 0 2 0 2 0 2 2 0 0 2 2 2 2 2 0 0 2 2 2 0 2 2 2 0 2 2 2 0 2\n",
            " 2 0]\n"
          ]
        }
      ]
    },
    {
      "cell_type": "markdown",
      "source": [
        "[Problem 2] Creation of a function to obtain SSE\n",
        "\n",
        "Create a function that calculates the sum of squared errors (SSE).\n",
        "\n",
        "The Sum of Squared Errors (SSE) is a measure of the total deviation of each point from its assigned cluster center. It is calculated as the sum of the squared distances between each point and the centroid of its assigned cluster."
      ],
      "metadata": {
        "id": "Y7toiW4Z41f4"
      }
    },
    {
      "cell_type": "code",
      "source": [
        "import numpy as np\n",
        "\n",
        "def initialize_centroids(X, K):\n",
        "    np.random.seed(42)  # For reproducibility\n",
        "    random_indices = np.random.permutation(X.shape[0])\n",
        "    centroids = X[random_indices[:K]]\n",
        "    return centroids\n",
        "\n",
        "def assign_clusters(X, centroids):\n",
        "    distances = np.linalg.norm(X[:, np.newaxis] - centroids, axis=2)\n",
        "    cluster_assignments = np.argmin(distances, axis=1)\n",
        "    return cluster_assignments\n",
        "\n",
        "def update_centroids(X, cluster_assignments, K):\n",
        "    new_centroids = np.array([X[cluster_assignments == k].mean(axis=0) for k in range(K)])\n",
        "    return new_centroids\n",
        "\n",
        "def calculate_sse(X, centroids, cluster_assignments):\n",
        "    sse = 0\n",
        "    for k in range(centroids.shape[0]):\n",
        "        cluster_points = X[cluster_assignments == k]\n",
        "        sse += np.sum((cluster_points - centroids[k]) ** 2)\n",
        "    return sse\n",
        "\n",
        "def kmeans(X, K, max_iters=100, tol=1e-4):\n",
        "    centroids = initialize_centroids(X, K)\n",
        "    for i in range(max_iters):\n",
        "        old_centroids = centroids\n",
        "        cluster_assignments = assign_clusters(X, centroids)\n",
        "        centroids = update_centroids(X, cluster_assignments, K)\n",
        "\n",
        "        # Check for convergence\n",
        "        if np.all(np.linalg.norm(centroids - old_centroids, axis=1) < tol):\n",
        "            break\n",
        "    sse = calculate_sse(X, centroids, cluster_assignments)\n",
        "    return centroids, cluster_assignments, sse\n",
        "\n",
        "# Example usage with a dataset\n",
        "from sklearn.datasets import load_iris\n",
        "\n",
        "# Load Iris dataset and use only the first two features for visualization purposes\n",
        "iris = load_iris()\n",
        "X = iris.data[:, :2]\n",
        "\n",
        "# Number of clusters\n",
        "K = 3\n",
        "\n",
        "# Perform K-means clustering\n",
        "centroids, cluster_assignments, sse = kmeans(X, K)\n",
        "\n",
        "print(\"Centroids:\\n\", centroids)\n",
        "print(\"Cluster assignments:\\n\", cluster_assignments)\n",
        "print(\"Sum of Squared Errors (SSE):\", sse)\n"
      ],
      "metadata": {
        "colab": {
          "base_uri": "https://localhost:8080/"
        },
        "id": "vgEnd0155PVA",
        "outputId": "d805f589-f8ad-4a8d-b2eb-7a4c0ba6b527"
      },
      "execution_count": 3,
      "outputs": [
        {
          "output_type": "stream",
          "name": "stdout",
          "text": [
            "Centroids:\n",
            " [[5.8        2.7       ]\n",
            " [5.00392157 3.40980392]\n",
            " [6.82391304 3.07826087]]\n",
            "Cluster assignments:\n",
            " [1 1 1 1 1 1 1 1 1 1 1 1 1 1 1 1 1 1 1 1 1 1 1 1 1 1 1 1 1 1 1 1 1 1 1 1 1\n",
            " 1 1 1 1 1 1 1 1 1 1 1 1 1 2 2 2 0 2 0 2 0 2 0 0 0 0 0 0 2 0 0 0 0 0 0 0 0\n",
            " 2 2 2 2 0 0 0 0 0 0 0 0 2 0 0 0 0 0 0 0 0 0 0 0 0 0 2 0 2 0 2 2 1 2 2 2 2\n",
            " 2 2 0 0 2 2 2 2 0 2 0 2 0 2 2 0 0 2 2 2 2 2 0 0 2 2 2 0 2 2 2 0 2 2 2 0 2\n",
            " 2 0]\n",
            "Sum of Squared Errors (SSE): 37.08627024722933\n"
          ]
        }
      ]
    },
    {
      "cell_type": "markdown",
      "source": [
        "The printed output will show the centroids, cluster assignments for each point, and the computed SSE for the K-means clustering result.\n",
        "\n",
        "This implementation allows you to evaluate the quality of the clustering by examining the SSE, where a lower SSE indicates a better fit of the data to the clusters."
      ],
      "metadata": {
        "id": "3iYgyPdN5jH0"
      }
    },
    {
      "cell_type": "markdown",
      "source": [
        "[Problem 3] Allocation to cluster\n",
        "\n",
        "Write code that assigns all data points $ X_n $ to the nearest center point $ \\ mu_k $.\n",
        "\n",
        "The closer the K-menas is that the Euclidean distance between the point and the point is reduced. The Euclidean distance is calculated by the Pythagorean theorem (three squares theorem), but it can be expressed by the following formula for the vectors $ p and q $.\n",
        "\n",
        "∥\n",
        "​ ​\n",
        "q\n",
        "-\n",
        "p\n",
        "​ ​\n",
        "∥\n",
        "​ ​\n",
        "=\n",
        "​ ​\n",
        "√\n",
        "​ ​\n",
        "(\n",
        "q\n",
        "-\n",
        "p\n",
        ")\n",
        "​ ​\n",
        "⋅\n",
        "​ ​\n",
        "(\n",
        "q\n",
        "-\n",
        "p\n",
        ")\n",
        "Use this function as it is provided as np.linalg.norm​\n",
        "\n",
        "numpy.linalg.norm — NumPy v1.17 Manual\n",
        "\n",
        "This means that the center point $ \\ mu_k $ is fixed and the SSE is minimized, but there is no need to find the SSE itself."
      ],
      "metadata": {
        "id": "UD9s0Sxp50AP"
      }
    },
    {
      "cell_type": "code",
      "source": [
        "import numpy as np\n",
        "\n",
        "def assign_clusters(X, centroids):\n",
        "    \"\"\"\n",
        "    Assign each point in X to the nearest centroid.\n",
        "\n",
        "    Parameters:\n",
        "    - X: A numpy array of shape (n_samples, n_features) representing the data points.\n",
        "    - centroids: A numpy array of shape (K, n_features) representing the centroids.\n",
        "\n",
        "    Returns:\n",
        "    - cluster_assignments: A numpy array of shape (n_samples,) representing the index of the nearest centroid for each data point.\n",
        "    \"\"\"\n",
        "    # Calculate the Euclidean distance between each point and each centroid\n",
        "    distances = np.linalg.norm(X[:, np.newaxis] - centroids, axis=2)\n",
        "\n",
        "    # Assign each point to the nearest centroid\n",
        "    cluster_assignments = np.argmin(distances, axis=1)\n",
        "\n",
        "    return cluster_assignments\n",
        "\n",
        "# Example usage\n",
        "from sklearn.datasets import load_iris\n",
        "\n",
        "# Load Iris dataset and use only the first two features for visualization purposes\n",
        "iris = load_iris()\n",
        "X = iris.data[:, :2]\n",
        "\n",
        "# Example centroids (randomly initialized for demonstration purposes)\n",
        "np.random.seed(42)\n",
        "initial_centroids = X[np.random.choice(X.shape[0], 3, replace=False)]\n",
        "\n",
        "# Assign clusters based on the initial centroids\n",
        "cluster_assignments = assign_clusters(X, initial_centroids)\n",
        "\n",
        "print(\"Initial Centroids:\\n\", initial_centroids)\n",
        "print(\"Cluster Assignments:\\n\", cluster_assignments)\n"
      ],
      "metadata": {
        "colab": {
          "base_uri": "https://localhost:8080/"
        },
        "id": "M51hmRpA573D",
        "outputId": "0efe08d2-d752-4cbb-e074-3322962737fb"
      },
      "execution_count": 4,
      "outputs": [
        {
          "output_type": "stream",
          "name": "stdout",
          "text": [
            "Initial Centroids:\n",
            " [[6.1 2.8]\n",
            " [5.7 3.8]\n",
            " [7.7 2.6]]\n",
            "Cluster Assignments:\n",
            " [1 1 1 1 1 1 1 1 1 1 1 1 1 1 1 1 1 1 1 1 1 1 1 1 1 1 1 1 1 1 1 1 1 1 1 1 1\n",
            " 1 1 1 1 0 1 1 1 1 1 1 1 1 2 0 0 0 0 0 0 0 0 0 0 0 0 0 0 0 0 0 0 0 0 0 0 0\n",
            " 0 0 0 0 0 0 0 0 0 0 0 1 0 0 0 0 0 0 0 0 0 0 0 0 0 0 0 0 2 0 0 2 0 2 0 2 0\n",
            " 0 0 0 0 0 0 2 2 0 0 0 2 0 0 2 0 0 0 2 2 2 0 0 0 2 0 0 0 0 0 0 0 0 0 0 0 0\n",
            " 0 0]\n"
          ]
        }
      ]
    },
    {
      "cell_type": "markdown",
      "source": [
        "This function does not require calculating the SSE directly, as it focuses on assigning each point to the nearest centroid based on the Euclidean distance, which inherently minimizes the distances during the assignment process."
      ],
      "metadata": {
        "id": "mrjBmIaA7QyB"
      }
    },
    {
      "cell_type": "markdown",
      "source": [
        "[Problem 4] Movement of the center point\n",
        "\n",
        "Write code that moves the center point $ \\ mu_k $ to the mean (centroid) of all data points $ X_n $ assigned to the $ k $ th cluster.\n",
        "\n",
        "You have fixed the cluster allocation $ r_ {nk} $ and minimized the SSE, but you do not need to ask for the SSE itself"
      ],
      "metadata": {
        "id": "-U9JCkPy7Y7_"
      }
    },
    {
      "cell_type": "code",
      "source": [
        "import numpy as np\n",
        "\n",
        "def update_centroids(X, cluster_assignments, K):\n",
        "    \"\"\"\n",
        "    Update the centroids to be the mean of the points assigned to each cluster.\n",
        "\n",
        "    Parameters:\n",
        "    - X: A numpy array of shape (n_samples, n_features) representing the data points.\n",
        "    - cluster_assignments: A numpy array of shape (n_samples,) representing the index of the nearest centroid for each data point.\n",
        "    - K: The number of clusters.\n",
        "\n",
        "    Returns:\n",
        "    - new_centroids: A numpy array of shape (K, n_features) representing the updated centroids.\n",
        "    \"\"\"\n",
        "    new_centroids = np.array([X[cluster_assignments == k].mean(axis=0) for k in range(K)])\n",
        "    return new_centroids\n",
        "\n",
        "# Example usage\n",
        "from sklearn.datasets import load_iris\n",
        "\n",
        "# Load Iris dataset and use only the first two features for visualization purposes\n",
        "iris = load_iris()\n",
        "X = iris.data[:, :2]\n",
        "\n",
        "# Number of clusters\n",
        "K = 3\n",
        "\n",
        "# Example initial cluster assignments (randomly assigned for demonstration purposes)\n",
        "np.random.seed(42)\n",
        "initial_centroids = X[np.random.choice(X.shape[0], K, replace=False)]\n",
        "cluster_assignments = assign_clusters(X, initial_centroids)\n",
        "\n",
        "# Update centroids based on current cluster assignments\n",
        "updated_centroids = update_centroids(X, cluster_assignments, K)\n",
        "\n",
        "print(\"Initial Centroids:\\n\", initial_centroids)\n",
        "print(\"Updated Centroids:\\n\", updated_centroids)\n"
      ],
      "metadata": {
        "colab": {
          "base_uri": "https://localhost:8080/"
        },
        "id": "4qluvWtv7z6a",
        "outputId": "1195101d-639c-46a2-9a9d-24d9d62fef7f"
      },
      "execution_count": 5,
      "outputs": [
        {
          "output_type": "stream",
          "name": "stdout",
          "text": [
            "Initial Centroids:\n",
            " [[6.1 2.8]\n",
            " [5.7 3.8]\n",
            " [7.7 2.6]]\n",
            "Updated Centroids:\n",
            " [[6.06896552 2.82068966]\n",
            " [5.036      3.45      ]\n",
            " [7.43846154 3.13076923]]\n"
          ]
        }
      ]
    },
    {
      "cell_type": "markdown",
      "source": [
        "Mean Calculation:\n",
        "\n",
        "The mean (centroid) of all data points assigned to each cluster\n",
        "𝑘\n",
        "k is calculated using X[cluster_assignments == k].mean(axis=0). This selects all points assigned to cluster\n",
        "𝑘\n",
        "k and computes their mean along the feature axis.\n",
        "Updating Centroids:\n",
        "\n",
        "The centroids are updated to these means, effectively moving the centroids to the center of their assigned points."
      ],
      "metadata": {
        "id": "x-PkHxeg8CHv"
      }
    },
    {
      "cell_type": "markdown",
      "source": [
        "Integration with K-means:\n",
        "To see this in action within the K-means algorithm:\n",
        "\n",
        "python"
      ],
      "metadata": {
        "id": "hNXdxUnh8I0P"
      }
    },
    {
      "cell_type": "code",
      "source": [
        "import numpy as np\n",
        "\n",
        "def initialize_centroids(X, K):\n",
        "    np.random.seed(42)  # For reproducibility\n",
        "    random_indices = np.random.permutation(X.shape[0])\n",
        "    centroids = X[random_indices[:K]]\n",
        "    return centroids\n",
        "\n",
        "def assign_clusters(X, centroids):\n",
        "    distances = np.linalg.norm(X[:, np.newaxis] - centroids, axis=2)\n",
        "    cluster_assignments = np.argmin(distances, axis=1)\n",
        "    return cluster_assignments\n",
        "\n",
        "def update_centroids(X, cluster_assignments, K):\n",
        "    new_centroids = np.array([X[cluster_assignments == k].mean(axis=0) for k in range(K)])\n",
        "    return new_centroids\n",
        "\n",
        "def kmeans(X, K, max_iters=100, tol=1e-4):\n",
        "    centroids = initialize_centroids(X, K)\n",
        "    for i in range(max_iters):\n",
        "        cluster_assignments = assign_clusters(X, centroids)\n",
        "        new_centroids = update_centroids(X, cluster_assignments, K)\n",
        "\n",
        "        # Check for convergence\n",
        "        if np.all(np.linalg.norm(new_centroids - centroids, axis=1) < tol):\n",
        "            break\n",
        "\n",
        "        centroids = new_centroids\n",
        "\n",
        "    return centroids, cluster_assignments\n",
        "\n",
        "# Example usage with a dataset\n",
        "from sklearn.datasets import load_iris\n",
        "\n",
        "# Load Iris dataset and use only the first two features for visualization purposes\n",
        "iris = load_iris()\n",
        "X = iris.data[:, :2]\n",
        "\n",
        "# Number of clusters\n",
        "K = 3\n",
        "\n",
        "# Perform K-means clustering\n",
        "centroids, cluster_assignments = kmeans(X, K)\n",
        "\n",
        "print(\"Final Centroids:\\n\", centroids)\n",
        "print(\"Cluster Assignments:\\n\", cluster_assignments)\n"
      ],
      "metadata": {
        "colab": {
          "base_uri": "https://localhost:8080/"
        },
        "id": "eS9hiPXZ8Mrn",
        "outputId": "d5115c00-70ac-4e0f-c2f4-2d6d11da380d"
      },
      "execution_count": 6,
      "outputs": [
        {
          "output_type": "stream",
          "name": "stdout",
          "text": [
            "Final Centroids:\n",
            " [[5.8        2.7       ]\n",
            " [5.00392157 3.40980392]\n",
            " [6.82391304 3.07826087]]\n",
            "Cluster Assignments:\n",
            " [1 1 1 1 1 1 1 1 1 1 1 1 1 1 1 1 1 1 1 1 1 1 1 1 1 1 1 1 1 1 1 1 1 1 1 1 1\n",
            " 1 1 1 1 1 1 1 1 1 1 1 1 1 2 2 2 0 2 0 2 0 2 0 0 0 0 0 0 2 0 0 0 0 0 0 0 0\n",
            " 2 2 2 2 0 0 0 0 0 0 0 0 2 0 0 0 0 0 0 0 0 0 0 0 0 0 2 0 2 0 2 2 1 2 2 2 2\n",
            " 2 2 0 0 2 2 2 2 0 2 0 2 0 2 2 0 0 2 2 2 2 2 0 0 2 2 2 0 2 2 2 0 2 2 2 0 2\n",
            " 2 0]\n"
          ]
        }
      ]
    },
    {
      "cell_type": "markdown",
      "source": [
        "[Problem 6] Calculate with different initial values\n",
        "\n",
        "Create code that calculates the repetition of question 5 by changing the initial value a specified number of times. The number of times is specified by the argument n_init in the template.\n",
        "\n",
        "Since the final learning result will be the one with the smallest SSE among multiple calculations, keep the center point $ \\ mu_k $ at that time."
      ],
      "metadata": {
        "id": "Qkwi39Fv8UkB"
      }
    },
    {
      "cell_type": "markdown",
      "source": [
        "[Problem 7] Estimate\n",
        "\n",
        "When estimating which cluster to belong to for new data, do the same as in the first phase of training.\n",
        "\n",
        "For the data point $ X_n $ and the center point $ \\ mu_k $ determined by learning, select $ r_ {nk} $ that minimizes $ SSE $.\n",
        "Specifically, it is as follows.\n",
        "\n",
        "Assign the data point $ X_n $ to the nearest $ \\ mu_k $."
      ],
      "metadata": {
        "id": "I104CKbE8lVX"
      }
    },
    {
      "cell_type": "markdown",
      "source": [
        "[Problem 8] Implementation of elbow method\n",
        "\n",
        "In K-means, the number of center points $ k $ must be determined artificially, and there is an elbow method as a method of determining it. Write the code to consider the number of center points $ k $ by the elbow method.\n",
        "\n",
        "Displays a line graph with SSE on the vertical axis and the number of clusters $ k $ on the horizontal axis. For this, make sure that you can get the SSE from an instance of K-means."
      ],
      "metadata": {
        "id": "dCBmtxNj89xx"
      }
    },
    {
      "cell_type": "code",
      "source": [
        "import numpy as np\n",
        "\n",
        "def initialize_centroids(X, K):\n",
        "    \"\"\"\n",
        "    Initialize K centroids by randomly selecting points from the dataset X.\n",
        "    \"\"\"\n",
        "    np.random.seed(42)  # For reproducibility\n",
        "    random_indices = np.random.permutation(X.shape[0])\n",
        "    centroids = X[random_indices[:K]]\n",
        "    return centroids\n",
        "\n",
        "def assign_clusters(X, centroids):\n",
        "    \"\"\"\n",
        "    Assign each point in X to the nearest centroid.\n",
        "    \"\"\"\n",
        "    distances = np.linalg.norm(X[:, np.newaxis] - centroids, axis=2)\n",
        "    cluster_assignments = np.argmin(distances, axis=1)\n",
        "    return cluster_assignments\n",
        "\n",
        "def update_centroids(X, cluster_assignments, K):\n",
        "    \"\"\"\n",
        "    Update the centroids to be the mean of the points assigned to each cluster.\n",
        "    \"\"\"\n",
        "    new_centroids = np.array([X[cluster_assignments == k].mean(axis=0) for k in range(K)])\n",
        "    return new_centroids\n",
        "\n",
        "def kmeans(X, K, max_iters=100, tol=1e-4):\n",
        "    \"\"\"\n",
        "    Perform K-means clustering on the dataset X with K clusters.\n",
        "    \"\"\"\n",
        "    centroids = initialize_centroids(X, K)\n",
        "    for i in range(max_iters):\n",
        "        cluster_assignments = assign_clusters(X, centroids)\n",
        "        new_centroids = update_centroids(X, cluster_assignments, K)\n",
        "\n",
        "        # Check for convergence\n",
        "        if np.all(np.linalg.norm(new_centroids - centroids, axis=1) < tol):\n",
        "            break\n",
        "\n",
        "        centroids = new_centroids\n",
        "\n",
        "    return centroids, cluster_assignments\n",
        "\n",
        "# Example usage with a dataset\n",
        "from sklearn.datasets import load_iris\n",
        "\n",
        "# Load Iris dataset and use only the first two features for visualization purposes\n",
        "iris = load_iris()\n",
        "X = iris.data[:, :2]\n",
        "\n",
        "# Number of clusters\n",
        "K = 3\n",
        "\n",
        "# Perform K-means clustering\n",
        "centroids, cluster_assignments = kmeans(X, K)\n",
        "\n",
        "print(\"Final Centroids:\\n\", centroids)\n",
        "print(\"Cluster Assignments:\\n\", cluster_assignments)\n"
      ],
      "metadata": {
        "colab": {
          "base_uri": "https://localhost:8080/"
        },
        "id": "Hxr3-MZr82Vn",
        "outputId": "613c5d1c-3e95-4c5c-f65e-d442c1732f4a"
      },
      "execution_count": 7,
      "outputs": [
        {
          "output_type": "stream",
          "name": "stdout",
          "text": [
            "Final Centroids:\n",
            " [[5.8        2.7       ]\n",
            " [5.00392157 3.40980392]\n",
            " [6.82391304 3.07826087]]\n",
            "Cluster Assignments:\n",
            " [1 1 1 1 1 1 1 1 1 1 1 1 1 1 1 1 1 1 1 1 1 1 1 1 1 1 1 1 1 1 1 1 1 1 1 1 1\n",
            " 1 1 1 1 1 1 1 1 1 1 1 1 1 2 2 2 0 2 0 2 0 2 0 0 0 0 0 0 2 0 0 0 0 0 0 0 0\n",
            " 2 2 2 2 0 0 0 0 0 0 0 0 2 0 0 0 0 0 0 0 0 0 0 0 0 0 2 0 2 0 2 2 1 2 2 2 2\n",
            " 2 2 0 0 2 2 2 2 0 2 0 2 0 2 2 0 0 2 2 2 2 2 0 0 2 2 2 0 2 2 2 0 2 2 2 0 2\n",
            " 2 0]\n"
          ]
        }
      ]
    },
    {
      "cell_type": "markdown",
      "source": [
        "The final centroids and cluster assignments for the Iris dataset (using the first two features) were printed. This provides a complete implementation of the K-means clustering algorithm, where the centroids are updated to the mean of their assigned points, and the clusters are iteratively refined until convergence."
      ],
      "metadata": {
        "id": "5cTfTAvf9pfH"
      }
    },
    {
      "cell_type": "markdown",
      "source": [
        "[Problem 9] (Advance assignment) Silhouette diagram\n",
        "\n",
        "There is also a silhouette diagram to help determine $ k $. Create code to display the silhouette diagram.\n",
        "\n",
        "We have prepared the code to display the diagram using Matplotlib. Please give:\n",
        "\n",
        "silhouette_vals: ndarray of shape (n_samples,), silhouette coefficient of each data point\n",
        "\n",
        "silhouette_avg: float, average value of silhouette coefficient\n",
        "\n",
        "y_km shape (n_samples,), cluster label name of each data point\n",
        "\n",
        "cluster_labels: list, a list of cluster label names\n",
        "\n",
        "n_clusters: int, number of clusters\n",
        "\n",
        "The silhouette coefficient $ s_n $ for the $ n $ th data point can be calculated by the following formula. Implement this formula and check the silhouette diagram.\n",
        "\n",
        "s\n",
        "​ ​\n",
        "n\n",
        "​ ​\n",
        "=\n",
        "​ ​\n",
        "b\n",
        "​ ​\n",
        "n\n",
        "-\n",
        "a\n",
        "​ ​\n",
        "n\n",
        "​ ​\n",
        "m\n",
        "​ ​\n",
        "a\n",
        "​ ​\n",
        "an unknown\n",
        "​ ​\n",
        "(\n",
        "b\n",
        "​ ​\n",
        "n\n",
        ",\n",
        "​ ​\n",
        "a\n",
        "​ ​\n",
        "n\n",
        ")\n",
        "$ a_n $: Cohesion. The average distance to other data points in the same cluster.\n",
        "\n",
        "$ b_n $: Degree of divergence. Average distance to all data points in the closest other cluster.\n",
        "\n",
        "Ideally, the divergence $ b $ is large and the cohesion $ a $ is small, with a silhouette coefficient of $ s $ close to 1."
      ],
      "metadata": {
        "id": "ShiJjLTa93ZB"
      }
    },
    {
      "cell_type": "code",
      "source": [
        "from matplotlib import cm\n",
        "\n",
        "y_ax_lower, y_ax_upper = 0, 0\n",
        "yticks = []\n",
        "for i, c in enumerate(cluster_labels):\n",
        "    c_silhouette_vals = silhouette_vals[y_km == c]\n",
        "    c_silhouette_vals.sort()\n",
        "    y_ax_upper += len(c_silhouette_vals)\n",
        "    color = cm.jet(i / n_clusters)\n",
        "    plt.barh(range(y_ax_lower, y_ax_upper), c_silhouette_vals, height=1.0, edgecolor='none', color=color)\n",
        "    yticks.append((y_ax_lower + y_ax_upper) / 2)\n",
        "    y_ax_lower += len(c_silhouette_vals)\n",
        "\n",
        "plt.axvline(silhouette_avg, color=\"red\", linestyle=\"--\")\n",
        "plt.yticks(yticks, cluster_labels + 1)\n",
        "plt.ylabel('Cluster')\n",
        "plt.xlabel('Silhouette coefficient')\n",
        "plt.show()"
      ],
      "metadata": {
        "id": "n4V-Xmj78Z0a"
      },
      "execution_count": null,
      "outputs": []
    },
    {
      "cell_type": "markdown",
      "source": [
        "o implement a silhouette diagram for the K-means clustering, we need to calculate the silhouette score for each sample, which measures how similar a sample is to its own cluster compared to other clusters."
      ],
      "metadata": {
        "id": "OQ3Sya02-EBZ"
      }
    },
    {
      "cell_type": "code",
      "source": [
        "import numpy as np\n",
        "import matplotlib.pyplot as plt\n",
        "from sklearn.datasets import load_iris\n",
        "\n",
        "def initialize_centroids(X, K):\n",
        "    np.random.seed(42)  # For reproducibility\n",
        "    random_indices = np.random.permutation(X.shape[0])\n",
        "    centroids = X[random_indices[:K]]\n",
        "    return centroids\n",
        "\n",
        "def assign_clusters(X, centroids):\n",
        "    distances = np.linalg.norm(X[:, np.newaxis] - centroids, axis=2)\n",
        "    cluster_assignments = np.argmin(distances, axis=1)\n",
        "    return cluster_assignments\n",
        "\n",
        "def update_centroids(X, cluster_assignments, K):\n",
        "    new_centroids = np.array([X[cluster_assignments == k].mean(axis=0) for k in range(K)])\n",
        "    return new_centroids\n",
        "\n",
        "def kmeans(X, K, max_iters=100, tol=1e-4):\n",
        "    centroids = initialize_centroids(X, K)\n",
        "    for i in range(max_iters):\n",
        "        cluster_assignments = assign_clusters(X, centroids)\n",
        "        new_centroids = update_centroids(X, cluster_assignments, K)\n",
        "\n",
        "        # Check for convergence\n",
        "        if np.all(np.linalg.norm(new_centroids - centroids, axis=1) < tol):\n",
        "            break\n",
        "\n",
        "        centroids = new_centroids\n",
        "\n",
        "    return centroids, cluster_assignments\n",
        "\n",
        "def calculate_silhouette_scores(X, cluster_assignments, centroids):\n",
        "    n_samples = X.shape[0]\n",
        "    K = centroids.shape[0]\n",
        "    silhouette_scores = np.zeros(n_samples)\n",
        "\n",
        "    for i in range(n_samples):\n",
        "        # Calculate a(i)\n",
        "        own_cluster = cluster_assignments[i]\n",
        "        own_cluster_points = X[cluster_assignments == own_cluster]\n",
        "        a_i = np.mean(np.linalg.norm(own_cluster_points - X[i], axis=1))\n",
        "\n",
        "        # Calculate b(i)\n",
        "        b_i = np.inf\n",
        "        for k in range(K):\n",
        "            if k == own_cluster:\n",
        "                continue\n",
        "            other_cluster_points = X[cluster_assignments == k]\n",
        "            b_i_k = np.mean(np.linalg.norm(other_cluster_points - X[i], axis=1))\n",
        "            if b_i_k < b_i:\n",
        "                b_i = b_i_k\n",
        "\n",
        "        # Calculate silhouette score for point i\n",
        "        silhouette_scores[i] = (b_i - a_i) / max(a_i, b_i)\n",
        "\n",
        "    return silhouette_scores\n",
        "\n",
        "def plot_silhouette_diagram(X, cluster_assignments, silhouette_scores):\n",
        "    n_clusters = np.unique(cluster_assignments).shape[0]\n",
        "    y_lower = 10\n",
        "    fig, ax1 = plt.subplots(1, 1)\n",
        "    fig.set_size_inches(8, 6)\n",
        "\n",
        "    for i in range(n_clusters):\n",
        "        ith_cluster_silhouette_values = silhouette_scores[cluster_assignments == i]\n",
        "        ith_cluster_silhouette_values.sort()\n",
        "        size_cluster_i = ith_cluster_silhouette_values.shape[0]\n",
        "        y_upper = y_lower + size_cluster_i\n",
        "        color = plt.cm.nipy_spectral(float(i) / n_clusters)\n",
        "\n",
        "        ax1.fill_betweenx(np.arange(y_lower, y_upper),\n",
        "                          0, ith_cluster_silhouette_values,\n",
        "                          facecolor=color, edgecolor=color, alpha=0.7)\n",
        "        ax1.text(-0.05, y_lower + 0.5 * size_cluster_i, str(i))\n",
        "        y_lower = y_upper + 10\n",
        "\n",
        "    ax1.set_title(\"Silhouette Plot\")\n",
        "    ax1.set_xlabel(\"Silhouette coefficient values\")\n",
        "    ax1.set_ylabel(\"Cluster\")\n",
        "    ax1.axvline(x=np.mean(silhouette_scores), color=\"red\", linestyle=\"--\")\n",
        "    ax1.set_yticks([])  # Clear the y-axis labels / ticks\n",
        "    ax1.set_xticks(np.arange(-0.1, 1.1, 0.2))\n",
        "\n",
        "    plt.show()\n",
        "\n",
        "# Example usage with a dataset\n",
        "iris = load_iris()\n",
        "X = iris.data[:, :2]\n",
        "\n",
        "# Number of clusters\n",
        "K = 3\n",
        "\n",
        "# Perform K-means clustering\n",
        "centroids, cluster_assignments = kmeans(X, K)\n",
        "\n",
        "# Calculate silhouette scores\n",
        "silhouette_scores = calculate_silhouette_scores(X, cluster_assignments, centroids)\n",
        "\n",
        "# Plot silhouette diagram\n",
        "plot_silhouette_diagram(X, cluster_assignments, silhouette_scores)\n",
        "\n",
        "print(\"Final Centroids:\\n\", centroids)\n",
        "print(\"Cluster Assignments:\\n\", cluster_assignments)\n",
        "print(\"Silhouette Scores:\\n\", silhouette_scores)\n"
      ],
      "metadata": {
        "colab": {
          "base_uri": "https://localhost:8080/",
          "height": 1000
        },
        "id": "dRW-jiPq-fDX",
        "outputId": "78b507db-222d-4348-9b1f-f2c7fc167fba"
      },
      "execution_count": 8,
      "outputs": [
        {
          "output_type": "display_data",
          "data": {
            "text/plain": [
              "<Figure size 800x600 with 1 Axes>"
            ],
            "image/png": "[encoded data removed]"
          },
          "metadata": {}
        },
        {
          "output_type": "stream",
          "name": "stdout",
          "text": [
            "Final Centroids:\n",
            " [[5.8        2.7       ]\n",
            " [5.00392157 3.40980392]\n",
            " [6.82391304 3.07826087]]\n",
            "Cluster Assignments:\n",
            " [1 1 1 1 1 1 1 1 1 1 1 1 1 1 1 1 1 1 1 1 1 1 1 1 1 1 1 1 1 1 1 1 1 1 1 1 1\n",
            " 1 1 1 1 1 1 1 1 1 1 1 1 1 2 2 2 0 2 0 2 0 2 0 0 0 0 0 0 2 0 0 0 0 0 0 0 0\n",
            " 2 2 2 2 0 0 0 0 0 0 0 0 2 0 0 0 0 0 0 0 0 0 0 0 0 0 2 0 2 0 2 2 1 2 2 2 2\n",
            " 2 2 0 0 2 2 2 2 0 2 0 2 0 2 2 0 0 2 2 2 2 2 0 0 2 2 2 0 2 2 2 0 2 2 2 0 2\n",
            " 2 0]\n",
            "Silhouette Scores:\n",
            " [ 0.59829253  0.42933919  0.57271912  0.52503603  0.62275881  0.45377906\n",
            "  0.59400234  0.61133154  0.41888819  0.50350935  0.4497274   0.62385639\n",
            "  0.46322163  0.44509038  0.23408072  0.29256336  0.45377906  0.59829253\n",
            "  0.25178624  0.57829805  0.33795251  0.5928415   0.59158727  0.53088439\n",
            "  0.62385639  0.37040333  0.61133154  0.5476874   0.51565525  0.57271912\n",
            "  0.52568605  0.33795251  0.48683249  0.37981819  0.50350935  0.5244864\n",
            "  0.29616117  0.62788195  0.46076806  0.57534556  0.62587141  0.10183264\n",
            "  0.51983318  0.62587141  0.57829805  0.46322163  0.57829805  0.56029421\n",
            "  0.5109823   0.57657544  0.62118321  0.34343652  0.62824276  0.51786233\n",
            "  0.27919717  0.60918248  0.22880777  0.07937937  0.45744112  0.18512872\n",
            "  0.2435384   0.51284921  0.47341239  0.39123042  0.48932884  0.58729286\n",
            "  0.40707807  0.6551073   0.35533629  0.59277319  0.37267319  0.43888301\n",
            "  0.25847333  0.43888301  0.19665129  0.5063829   0.50808862  0.56731244\n",
            "  0.49530541  0.63975771  0.53372058  0.53372058  0.6551073   0.55131638\n",
            "  0.15677505  0.14777234  0.58729286  0.27951067  0.40707807  0.53825361\n",
            "  0.52975583  0.32442734  0.64697088  0.19674005  0.58007274  0.48511604\n",
            "  0.55867385  0.23840117  0.20304442  0.60918248  0.22880777  0.6551073\n",
            "  0.60512011  0.0279228   0.41264521  0.52890103 -0.01393443  0.56453986\n",
            "  0.2568118   0.5303135   0.45033379  0.02384155  0.59771842  0.63065138\n",
            "  0.6389513   0.34343652  0.41264521  0.45886999  0.44764486  0.47341239\n",
            "  0.6224497   0.54662427  0.48727603  0.17820585  0.56159492  0.60005127\n",
            "  0.30016893  0.32442734  0.11509923  0.59435919  0.53021443  0.43825986\n",
            "  0.11509923  0.11216921  0.47155953  0.51017628  0.23906299  0.31497522\n",
            "  0.43735872  0.62824276  0.58729286  0.62824276  0.6551073   0.61035953\n",
            "  0.56159492  0.56731244  0.25847333  0.41264521  0.11445754  0.51284921]\n"
          ]
        }
      ]
    },
    {
      "cell_type": "markdown",
      "source": [
        "Silhouette Scores Calculation:\n",
        "\n",
        "calculate_silhouette_scores(X, cluster_assignments, centroids) calculates the silhouette score for each data point. It first calculates\n",
        "𝑎\n",
        "(\n",
        "𝑖\n",
        ")\n",
        "a(i) as the mean distance between the point and other points in the same cluster. It then calculates\n",
        "𝑏\n",
        "(\n",
        "𝑖\n",
        ")\n",
        "b(i) as the minimum mean distance between the point and points in other clusters.\n",
        "Plotting Silhouette Diagram:\n",
        "\n",
        "plot_silhouette_diagram(X, cluster_assignments, silhouette_scores) plots the silhouette diagram. Each cluster's silhouette scores are plotted, with the average silhouette score marked with a red dashed line.\n",
        "This code performs K-means clustering on the Iris dataset (using the first two features) and plots the silhouette diagram to visualize the quality of the clustering. The silhouette scores help assess how well each data point is clustered, with higher scores indicating better clustering."
      ],
      "metadata": {
        "id": "iDCppi9f-o7x"
      }
    }
  ]
}