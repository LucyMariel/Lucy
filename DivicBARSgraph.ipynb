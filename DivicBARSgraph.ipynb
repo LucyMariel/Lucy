{
  "nbformat": 4,
  "nbformat_minor": 0,
  "metadata": {
    "colab": {
      "provenance": [],
      "authorship_tag": "ABX9TyNbCr1EP2EjWLBuxVtP8p5/",
      "include_colab_link": true
    },
    "kernelspec": {
      "name": "python3",
      "display_name": "Python 3"
    },
    "language_info": {
      "name": "python"
    }
  },
  "cells": [
    {
      "cell_type": "markdown",
      "metadata": {
        "id": "view-in-github",
        "colab_type": "text"
      },
      "source": [
        "<a href=\"https://colab.research.google.com/github/LucyMariel/Lucy/blob/master/DivicBARSgraph.ipynb\" target=\"_parent\"><img src=\"https://colab.research.google.com/assets/colab-badge.svg\" alt=\"Open In Colab\"/></a>"
      ]
    },
    {
      "cell_type": "code",
      "execution_count": 1,
      "metadata": {
        "id": "yl6dmEGuj8vV"
      },
      "outputs": [],
      "source": [
        "import numpy as np\n",
        "import pandas as pd\n",
        "import matplotlib.pyplot as plt"
      ]
    },
    {
      "cell_type": "code",
      "source": [
        "df = pd.read_csv('App_log.csv')"
      ],
      "metadata": {
        "colab": {
          "base_uri": "https://localhost:8080/"
        },
        "id": "xVJIl6y-lCJ2",
        "outputId": "3c96fe10-59e7-4eda-dfa6-bf0df6d35a93"
      },
      "execution_count": 41,
      "outputs": [
        {
          "output_type": "stream",
          "name": "stderr",
          "text": [
            "<ipython-input-41-dd6d7f075b53>:1: DtypeWarning: Columns (10,12,13,14,15,16,17,18,19,20,21,22,33,34,36,37) have mixed types. Specify dtype option on import or set low_memory=False.\n",
            "  df = pd.read_csv('App_log.csv')\n"
          ]
        }
      ]
    },
    {
      "cell_type": "code",
      "source": [
        "df.columns"
      ],
      "metadata": {
        "colab": {
          "base_uri": "https://localhost:8080/"
        },
        "id": "TtszI1sNxCKU",
        "outputId": "f51f6def-7932-455f-f753-953365c94136"
      },
      "execution_count": 42,
      "outputs": [
        {
          "output_type": "execute_result",
          "data": {
            "text/plain": [
              "Index(['log_id', 'process_id', 'function_name', 'process', 'status_name',\n",
              "       'target_datetime', 'reservation_no', 'hospital_user_id', 'taxi_id',\n",
              "       'taxi_driver_name', 'age', 'gender', 'height', 'weight', 'passenger',\n",
              "       'depart_date_at', 'depart_address', 'destination_address',\n",
              "       'destination_type', 'taxi_equipments', 'equipments', 'notices',\n",
              "       'taxies', 'response_time', 'estimated_amount',\n",
              "       'scheduled_departure_datetime', 'call_type', 'call_time', 'reads',\n",
              "       'taxi_status_name', 'actual_amount', 'evaluation', 'regist_datetime',\n",
              "       'person_in_charge', 'medical_other_equipment', 'oxygen_amount',\n",
              "       'nurse_necessity', 'stretcher_necessity'],\n",
              "      dtype='object')"
            ]
          },
          "metadata": {},
          "execution_count": 42
        }
      ]
    },
    {
      "cell_type": "code",
      "source": [
        "print(df)"
      ],
      "metadata": {
        "colab": {
          "base_uri": "https://localhost:8080/"
        },
        "id": "9d0NMkBAxHUj",
        "outputId": "2b4f4d57-ad99-40ba-c5b6-cba388d63d71"
      },
      "execution_count": 43,
      "outputs": [
        {
          "output_type": "stream",
          "name": "stdout",
          "text": [
            "       log_id                        process_id  \\\n",
            "0       46249  878zyt0zgvypqd3zr3m9ueanegra9kqv   \n",
            "1       50096  spndu6fdngbn4sdf5mzmyzv20ww94fsz   \n",
            "2       50097  rto3ucnonsbj10uq2bcclbbvo331zs94   \n",
            "3       46252  r9o3zm7ll2gsc2vzxugj21ln1x9g8gfq   \n",
            "4       20672  jmheh6bcsdavuajihxdwturqjcqig68k   \n",
            "...       ...                               ...   \n",
            "49579    4324  datalostdatalostdatalost00004324   \n",
            "49580    4325  datalostdatalostdatalost00004325   \n",
            "49581    4326  datalostdatalostdatalost00004326   \n",
            "49582    4327  datalostdatalostdatalost00004327   \n",
            "49583    4328  datalostdatalostdatalost00004328   \n",
            "\n",
            "                                   function_name process status_name  \\\n",
            "0            testapp.views.hospital_taxi_confirm    ????   ????/????   \n",
            "1      testapp.views.hospital_input_reserve_info      ??       ?????   \n",
            "2           testapp.views.hospital_taxi_response      ??  ?????/????   \n",
            "3      testapp.views.hospital_input_reserve_info      ??       ?????   \n",
            "4      testapp.views.hospital_input_reserve_info      ??       ?????   \n",
            "...                                          ...     ...         ...   \n",
            "49579  testapp.views.hospital_input_reserve_info      ??       ?????   \n",
            "49580        testapp.views.hospital_taxi_confirm    ????   ????/????   \n",
            "49581        testapp.views.hospital_taxi_confirm    ????   ????/????   \n",
            "49582  testapp.views.hospital_input_reserve_info      ??       ?????   \n",
            "49583        testapp.views.hospital_taxi_confirm    ????   ????/????   \n",
            "\n",
            "        target_datetime  reservation_no                hospital_user_id  \\\n",
            "0       1/10/2024 11:52             629  m_akiyama@shonankamakura.or.jp   \n",
            "1       1/31/2024 11:30             267           soudan@shinmidori.com   \n",
            "2       1/31/2024 11:31             267           soudan@shinmidori.com   \n",
            "3       1/10/2024 12:09              22           ht-msw@fureai-g.or.jp   \n",
            "4        7/6/2023 18:08             906                          shien1   \n",
            "...                 ...             ...                             ...   \n",
            "49579  11/14/2022 15:58             162                          shien1   \n",
            "49580  11/14/2022 16:18             161                          shien1   \n",
            "49581  11/14/2022 16:18             162                          shien1   \n",
            "49582  11/14/2022 15:58             191                             er1   \n",
            "49583  11/14/2022 16:18             191                             er1   \n",
            "\n",
            "            taxi_id taxi_driver_name  ...  \\\n",
            "0               105           ??????  ...   \n",
            "1               NaN              NaN  ...   \n",
            "2      T2c61Mepm5t1    ????????????   ...   \n",
            "3               NaN              NaN  ...   \n",
            "4               NaN              NaN  ...   \n",
            "...             ...              ...  ...   \n",
            "49579           106       ?????? ???  ...   \n",
            "49580           106       ?????? ???  ...   \n",
            "49581           106       ?????? ???  ...   \n",
            "49582           106       ?????? ???  ...   \n",
            "49583           106       ?????? ???  ...   \n",
            "\n",
            "                                                   reads  taxi_status_name  \\\n",
            "0      \\r\\n  ????Liberta/ ????Liberta = ??,\\r\\n  ????...               NaN   \n",
            "1                                                    NaN               NaN   \n",
            "2                                                    NaN               NaN   \n",
            "3                                                    NaN               NaN   \n",
            "4                                                    NaN               NaN   \n",
            "...                                                  ...               ...   \n",
            "49579                                                NaN               NaN   \n",
            "49580                                                NaN               NaN   \n",
            "49581                                                NaN               NaN   \n",
            "49582                                                NaN               NaN   \n",
            "49583                                                NaN               NaN   \n",
            "\n",
            "      actual_amount evaluation   regist_datetime     person_in_charge  \\\n",
            "0               NaN        NaN   1/10/2024 11:52                  NaN   \n",
            "1               NaN        NaN   1/31/2024 11:30             ????????   \n",
            "2               NaN        NaN   1/31/2024 11:31                  NaN   \n",
            "3               NaN        NaN   1/10/2024 12:09  ???????????????????   \n",
            "4               NaN        NaN    7/6/2023 18:08            ?????????   \n",
            "...             ...        ...               ...                  ...   \n",
            "49579           NaN        NaN  11/14/2022 15:58                  NaN   \n",
            "49580           NaN        NaN  11/14/2022 16:18                  NaN   \n",
            "49581           NaN        NaN  11/14/2022 16:18                  NaN   \n",
            "49582           NaN        NaN  11/14/2022 15:58                  NaN   \n",
            "49583           NaN        NaN  11/14/2022 16:18                  NaN   \n",
            "\n",
            "      medical_other_equipment oxygen_amount nurse_necessity  \\\n",
            "0                         NaN           NaN             NaN   \n",
            "1                         NaN           NaN               ?   \n",
            "2                         NaN           NaN             NaN   \n",
            "3                         NaN           NaN               ?   \n",
            "4                      ??????           NaN               ?   \n",
            "...                       ...           ...             ...   \n",
            "49579                     NaN           NaN             NaN   \n",
            "49580                     NaN           NaN             NaN   \n",
            "49581                     NaN           NaN             NaN   \n",
            "49582                     NaN           NaN             NaN   \n",
            "49583                     NaN           NaN             NaN   \n",
            "\n",
            "      stretcher_necessity  \n",
            "0                     NaN  \n",
            "1                     NaN  \n",
            "2                     NaN  \n",
            "3                      ??  \n",
            "4                      ??  \n",
            "...                   ...  \n",
            "49579                 NaN  \n",
            "49580                 NaN  \n",
            "49581                 NaN  \n",
            "49582                 NaN  \n",
            "49583                 NaN  \n",
            "\n",
            "[49584 rows x 38 columns]\n"
          ]
        }
      ]
    },
    {
      "cell_type": "code",
      "source": [
        "df.dtypes"
      ],
      "metadata": {
        "colab": {
          "base_uri": "https://localhost:8080/"
        },
        "id": "1yJeGjXylNi1",
        "outputId": "c58248cc-e66e-4c08-81e3-c571c2653d40"
      },
      "execution_count": 44,
      "outputs": [
        {
          "output_type": "execute_result",
          "data": {
            "text/plain": [
              "log_id                            int64\n",
              "process_id                       object\n",
              "function_name                    object\n",
              "process                          object\n",
              "status_name                      object\n",
              "target_datetime                  object\n",
              "reservation_no                    int64\n",
              "hospital_user_id                 object\n",
              "taxi_id                          object\n",
              "taxi_driver_name                 object\n",
              "age                              object\n",
              "gender                          float64\n",
              "height                           object\n",
              "weight                           object\n",
              "passenger                        object\n",
              "depart_date_at                   object\n",
              "depart_address                   object\n",
              "destination_address              object\n",
              "destination_type                 object\n",
              "taxi_equipments                  object\n",
              "equipments                       object\n",
              "notices                          object\n",
              "taxies                           object\n",
              "response_time                    object\n",
              "estimated_amount                float64\n",
              "scheduled_departure_datetime     object\n",
              "call_type                        object\n",
              "call_time                        object\n",
              "reads                            object\n",
              "taxi_status_name                float64\n",
              "actual_amount                   float64\n",
              "evaluation                      float64\n",
              "regist_datetime                  object\n",
              "person_in_charge                 object\n",
              "medical_other_equipment          object\n",
              "oxygen_amount                   float64\n",
              "nurse_necessity                  object\n",
              "stretcher_necessity              object\n",
              "dtype: object"
            ]
          },
          "metadata": {},
          "execution_count": 44
        }
      ]
    },
    {
      "cell_type": "code",
      "source": [
        "df[[\"estimated_amount\", \"actual_amount\"]]"
      ],
      "metadata": {
        "colab": {
          "base_uri": "https://localhost:8080/",
          "height": 424
        },
        "id": "qGhHq8ixlceM",
        "outputId": "eeae9fcd-d7ef-457a-d4e9-89592b25a655"
      },
      "execution_count": 45,
      "outputs": [
        {
          "output_type": "execute_result",
          "data": {
            "text/plain": [
              "       estimated_amount  actual_amount\n",
              "0                   NaN            NaN\n",
              "1                   NaN            NaN\n",
              "2                   0.0            NaN\n",
              "3                   NaN            NaN\n",
              "4                   NaN            NaN\n",
              "...                 ...            ...\n",
              "49579               NaN            NaN\n",
              "49580               NaN            NaN\n",
              "49581               NaN            NaN\n",
              "49582               NaN            NaN\n",
              "49583               NaN            NaN\n",
              "\n",
              "[49584 rows x 2 columns]"
            ],
            "text/html": [
              "\n",
              "  <div id=\"df-6e5a76c6-0ecc-4e6e-8e0a-f3e69e4190de\" class=\"colab-df-container\">\n",
              "    <div>\n",
              "<style scoped>\n",
              "    .dataframe tbody tr th:only-of-type {\n",
              "        vertical-align: middle;\n",
              "    }\n",
              "\n",
              "    .dataframe tbody tr th {\n",
              "        vertical-align: top;\n",
              "    }\n",
              "\n",
              "    .dataframe thead th {\n",
              "        text-align: right;\n",
              "    }\n",
              "</style>\n",
              "<table border=\"1\" class=\"dataframe\">\n",
              "  <thead>\n",
              "    <tr style=\"text-align: right;\">\n",
              "      <th></th>\n",
              "      <th>estimated_amount</th>\n",
              "      <th>actual_amount</th>\n",
              "    </tr>\n",
              "  </thead>\n",
              "  <tbody>\n",
              "    <tr>\n",
              "      <th>0</th>\n",
              "      <td>NaN</td>\n",
              "      <td>NaN</td>\n",
              "    </tr>\n",
              "    <tr>\n",
              "      <th>1</th>\n",
              "      <td>NaN</td>\n",
              "      <td>NaN</td>\n",
              "    </tr>\n",
              "    <tr>\n",
              "      <th>2</th>\n",
              "      <td>0.0</td>\n",
              "      <td>NaN</td>\n",
              "    </tr>\n",
              "    <tr>\n",
              "      <th>3</th>\n",
              "      <td>NaN</td>\n",
              "      <td>NaN</td>\n",
              "    </tr>\n",
              "    <tr>\n",
              "      <th>4</th>\n",
              "      <td>NaN</td>\n",
              "      <td>NaN</td>\n",
              "    </tr>\n",
              "    <tr>\n",
              "      <th>...</th>\n",
              "      <td>...</td>\n",
              "      <td>...</td>\n",
              "    </tr>\n",
              "    <tr>\n",
              "      <th>49579</th>\n",
              "      <td>NaN</td>\n",
              "      <td>NaN</td>\n",
              "    </tr>\n",
              "    <tr>\n",
              "      <th>49580</th>\n",
              "      <td>NaN</td>\n",
              "      <td>NaN</td>\n",
              "    </tr>\n",
              "    <tr>\n",
              "      <th>49581</th>\n",
              "      <td>NaN</td>\n",
              "      <td>NaN</td>\n",
              "    </tr>\n",
              "    <tr>\n",
              "      <th>49582</th>\n",
              "      <td>NaN</td>\n",
              "      <td>NaN</td>\n",
              "    </tr>\n",
              "    <tr>\n",
              "      <th>49583</th>\n",
              "      <td>NaN</td>\n",
              "      <td>NaN</td>\n",
              "    </tr>\n",
              "  </tbody>\n",
              "</table>\n",
              "<p>49584 rows × 2 columns</p>\n",
              "</div>\n",
              "    <div class=\"colab-df-buttons\">\n",
              "\n",
              "  <div class=\"colab-df-container\">\n",
              "    <button class=\"colab-df-convert\" onclick=\"convertToInteractive('df-6e5a76c6-0ecc-4e6e-8e0a-f3e69e4190de')\"\n",
              "            title=\"Convert this dataframe to an interactive table.\"\n",
              "            style=\"display:none;\">\n",
              "\n",
              "  <svg xmlns=\"http://www.w3.org/2000/svg\" height=\"24px\" viewBox=\"0 -960 960 960\">\n",
              "    <path d=\"M120-120v-720h720v720H120Zm60-500h600v-160H180v160Zm220 220h160v-160H400v160Zm0 220h160v-160H400v160ZM180-400h160v-160H180v160Zm440 0h160v-160H620v160ZM180-180h160v-160H180v160Zm440 0h160v-160H620v160Z\"/>\n",
              "  </svg>\n",
              "    </button>\n",
              "\n",
              "  <style>\n",
              "    .colab-df-container {\n",
              "      display:flex;\n",
              "      gap: 12px;\n",
              "    }\n",
              "\n",
              "    .colab-df-convert {\n",
              "      background-color: #E8F0FE;\n",
              "      border: none;\n",
              "      border-radius: 50%;\n",
              "      cursor: pointer;\n",
              "      display: none;\n",
              "      fill: #1967D2;\n",
              "      height: 32px;\n",
              "      padding: 0 0 0 0;\n",
              "      width: 32px;\n",
              "    }\n",
              "\n",
              "    .colab-df-convert:hover {\n",
              "      background-color: #E2EBFA;\n",
              "      box-shadow: 0px 1px 2px rgba(60, 64, 67, 0.3), 0px 1px 3px 1px rgba(60, 64, 67, 0.15);\n",
              "      fill: #174EA6;\n",
              "    }\n",
              "\n",
              "    .colab-df-buttons div {\n",
              "      margin-bottom: 4px;\n",
              "    }\n",
              "\n",
              "    [theme=dark] .colab-df-convert {\n",
              "      background-color: #3B4455;\n",
              "      fill: #D2E3FC;\n",
              "    }\n",
              "\n",
              "    [theme=dark] .colab-df-convert:hover {\n",
              "      background-color: #434B5C;\n",
              "      box-shadow: 0px 1px 3px 1px rgba(0, 0, 0, 0.15);\n",
              "      filter: drop-shadow(0px 1px 2px rgba(0, 0, 0, 0.3));\n",
              "      fill: #FFFFFF;\n",
              "    }\n",
              "  </style>\n",
              "\n",
              "    <script>\n",
              "      const buttonEl =\n",
              "        document.querySelector('#df-6e5a76c6-0ecc-4e6e-8e0a-f3e69e4190de button.colab-df-convert');\n",
              "      buttonEl.style.display =\n",
              "        google.colab.kernel.accessAllowed ? 'block' : 'none';\n",
              "\n",
              "      async function convertToInteractive(key) {\n",
              "        const element = document.querySelector('#df-6e5a76c6-0ecc-4e6e-8e0a-f3e69e4190de');\n",
              "        const dataTable =\n",
              "          await google.colab.kernel.invokeFunction('convertToInteractive',\n",
              "                                                    [key], {});\n",
              "        if (!dataTable) return;\n",
              "\n",
              "        const docLinkHtml = 'Like what you see? Visit the ' +\n",
              "          '<a target=\"_blank\" href=https://colab.research.google.com/notebooks/data_table.ipynb>data table notebook</a>'\n",
              "          + ' to learn more about interactive tables.';\n",
              "        element.innerHTML = '';\n",
              "        dataTable['output_type'] = 'display_data';\n",
              "        await google.colab.output.renderOutput(dataTable, element);\n",
              "        const docLink = document.createElement('div');\n",
              "        docLink.innerHTML = docLinkHtml;\n",
              "        element.appendChild(docLink);\n",
              "      }\n",
              "    </script>\n",
              "  </div>\n",
              "\n",
              "\n",
              "<div id=\"df-11a84a98-61c7-4aae-81b1-a20d8b7e05f1\">\n",
              "  <button class=\"colab-df-quickchart\" onclick=\"quickchart('df-11a84a98-61c7-4aae-81b1-a20d8b7e05f1')\"\n",
              "            title=\"Suggest charts\"\n",
              "            style=\"display:none;\">\n",
              "\n",
              "<svg xmlns=\"http://www.w3.org/2000/svg\" height=\"24px\"viewBox=\"0 0 24 24\"\n",
              "     width=\"24px\">\n",
              "    <g>\n",
              "        <path d=\"M19 3H5c-1.1 0-2 .9-2 2v14c0 1.1.9 2 2 2h14c1.1 0 2-.9 2-2V5c0-1.1-.9-2-2-2zM9 17H7v-7h2v7zm4 0h-2V7h2v10zm4 0h-2v-4h2v4z\"/>\n",
              "    </g>\n",
              "</svg>\n",
              "  </button>\n",
              "\n",
              "<style>\n",
              "  .colab-df-quickchart {\n",
              "      --bg-color: #E8F0FE;\n",
              "      --fill-color: #1967D2;\n",
              "      --hover-bg-color: #E2EBFA;\n",
              "      --hover-fill-color: #174EA6;\n",
              "      --disabled-fill-color: #AAA;\n",
              "      --disabled-bg-color: #DDD;\n",
              "  }\n",
              "\n",
              "  [theme=dark] .colab-df-quickchart {\n",
              "      --bg-color: #3B4455;\n",
              "      --fill-color: #D2E3FC;\n",
              "      --hover-bg-color: #434B5C;\n",
              "      --hover-fill-color: #FFFFFF;\n",
              "      --disabled-bg-color: #3B4455;\n",
              "      --disabled-fill-color: #666;\n",
              "  }\n",
              "\n",
              "  .colab-df-quickchart {\n",
              "    background-color: var(--bg-color);\n",
              "    border: none;\n",
              "    border-radius: 50%;\n",
              "    cursor: pointer;\n",
              "    display: none;\n",
              "    fill: var(--fill-color);\n",
              "    height: 32px;\n",
              "    padding: 0;\n",
              "    width: 32px;\n",
              "  }\n",
              "\n",
              "  .colab-df-quickchart:hover {\n",
              "    background-color: var(--hover-bg-color);\n",
              "    box-shadow: 0 1px 2px rgba(60, 64, 67, 0.3), 0 1px 3px 1px rgba(60, 64, 67, 0.15);\n",
              "    fill: var(--button-hover-fill-color);\n",
              "  }\n",
              "\n",
              "  .colab-df-quickchart-complete:disabled,\n",
              "  .colab-df-quickchart-complete:disabled:hover {\n",
              "    background-color: var(--disabled-bg-color);\n",
              "    fill: var(--disabled-fill-color);\n",
              "    box-shadow: none;\n",
              "  }\n",
              "\n",
              "  .colab-df-spinner {\n",
              "    border: 2px solid var(--fill-color);\n",
              "    border-color: transparent;\n",
              "    border-bottom-color: var(--fill-color);\n",
              "    animation:\n",
              "      spin 1s steps(1) infinite;\n",
              "  }\n",
              "\n",
              "  @keyframes spin {\n",
              "    0% {\n",
              "      border-color: transparent;\n",
              "      border-bottom-color: var(--fill-color);\n",
              "      border-left-color: var(--fill-color);\n",
              "    }\n",
              "    20% {\n",
              "      border-color: transparent;\n",
              "      border-left-color: var(--fill-color);\n",
              "      border-top-color: var(--fill-color);\n",
              "    }\n",
              "    30% {\n",
              "      border-color: transparent;\n",
              "      border-left-color: var(--fill-color);\n",
              "      border-top-color: var(--fill-color);\n",
              "      border-right-color: var(--fill-color);\n",
              "    }\n",
              "    40% {\n",
              "      border-color: transparent;\n",
              "      border-right-color: var(--fill-color);\n",
              "      border-top-color: var(--fill-color);\n",
              "    }\n",
              "    60% {\n",
              "      border-color: transparent;\n",
              "      border-right-color: var(--fill-color);\n",
              "    }\n",
              "    80% {\n",
              "      border-color: transparent;\n",
              "      border-right-color: var(--fill-color);\n",
              "      border-bottom-color: var(--fill-color);\n",
              "    }\n",
              "    90% {\n",
              "      border-color: transparent;\n",
              "      border-bottom-color: var(--fill-color);\n",
              "    }\n",
              "  }\n",
              "</style>\n",
              "\n",
              "  <script>\n",
              "    async function quickchart(key) {\n",
              "      const quickchartButtonEl =\n",
              "        document.querySelector('#' + key + ' button');\n",
              "      quickchartButtonEl.disabled = true;  // To prevent multiple clicks.\n",
              "      quickchartButtonEl.classList.add('colab-df-spinner');\n",
              "      try {\n",
              "        const charts = await google.colab.kernel.invokeFunction(\n",
              "            'suggestCharts', [key], {});\n",
              "      } catch (error) {\n",
              "        console.error('Error during call to suggestCharts:', error);\n",
              "      }\n",
              "      quickchartButtonEl.classList.remove('colab-df-spinner');\n",
              "      quickchartButtonEl.classList.add('colab-df-quickchart-complete');\n",
              "    }\n",
              "    (() => {\n",
              "      let quickchartButtonEl =\n",
              "        document.querySelector('#df-11a84a98-61c7-4aae-81b1-a20d8b7e05f1 button');\n",
              "      quickchartButtonEl.style.display =\n",
              "        google.colab.kernel.accessAllowed ? 'block' : 'none';\n",
              "    })();\n",
              "  </script>\n",
              "</div>\n",
              "\n",
              "    </div>\n",
              "  </div>\n"
            ],
            "application/vnd.google.colaboratory.intrinsic+json": {
              "type": "dataframe",
              "summary": "{\n  \"name\": \"df[[\\\"estimated_amount\\\", \\\"actual_amount\\\"]]\",\n  \"rows\": 49584,\n  \"fields\": [\n    {\n      \"column\": \"estimated_amount\",\n      \"properties\": {\n        \"dtype\": \"number\",\n        \"std\": 9457.778735894368,\n        \"min\": 0.0,\n        \"max\": 560000.0,\n        \"num_unique_values\": 87,\n        \"samples\": [\n          67000.0,\n          0.0,\n          19000.0\n        ],\n        \"semantic_type\": \"\",\n        \"description\": \"\"\n      }\n    },\n    {\n      \"column\": \"actual_amount\",\n      \"properties\": {\n        \"dtype\": \"number\",\n        \"std\": 113503.45842186581,\n        \"min\": 2000.0,\n        \"max\": 1254365.0,\n        \"num_unique_values\": 87,\n        \"samples\": [\n          3000.0,\n          8890.0,\n          5120.0\n        ],\n        \"semantic_type\": \"\",\n        \"description\": \"\"\n      }\n    }\n  ]\n}"
            }
          },
          "metadata": {},
          "execution_count": 45
        }
      ]
    },
    {
      "cell_type": "code",
      "source": [
        "dropna_df = df.dropna()"
      ],
      "metadata": {
        "id": "TVihXYpaolyE"
      },
      "execution_count": 46,
      "outputs": []
    },
    {
      "cell_type": "code",
      "source": [
        "df.dtypes"
      ],
      "metadata": {
        "colab": {
          "base_uri": "https://localhost:8080/"
        },
        "id": "ssOtVRSlo1Ls",
        "outputId": "afc82c69-ee84-4254-dc60-e6e47043087b"
      },
      "execution_count": 47,
      "outputs": [
        {
          "output_type": "execute_result",
          "data": {
            "text/plain": [
              "log_id                            int64\n",
              "process_id                       object\n",
              "function_name                    object\n",
              "process                          object\n",
              "status_name                      object\n",
              "target_datetime                  object\n",
              "reservation_no                    int64\n",
              "hospital_user_id                 object\n",
              "taxi_id                          object\n",
              "taxi_driver_name                 object\n",
              "age                              object\n",
              "gender                          float64\n",
              "height                           object\n",
              "weight                           object\n",
              "passenger                        object\n",
              "depart_date_at                   object\n",
              "depart_address                   object\n",
              "destination_address              object\n",
              "destination_type                 object\n",
              "taxi_equipments                  object\n",
              "equipments                       object\n",
              "notices                          object\n",
              "taxies                           object\n",
              "response_time                    object\n",
              "estimated_amount                float64\n",
              "scheduled_departure_datetime     object\n",
              "call_type                        object\n",
              "call_time                        object\n",
              "reads                            object\n",
              "taxi_status_name                float64\n",
              "actual_amount                   float64\n",
              "evaluation                      float64\n",
              "regist_datetime                  object\n",
              "person_in_charge                 object\n",
              "medical_other_equipment          object\n",
              "oxygen_amount                   float64\n",
              "nurse_necessity                  object\n",
              "stretcher_necessity              object\n",
              "dtype: object"
            ]
          },
          "metadata": {},
          "execution_count": 47
        }
      ]
    },
    {
      "cell_type": "code",
      "source": [
        "df[[\"estimated_amount\", \"reservation_no\"]]"
      ],
      "metadata": {
        "colab": {
          "base_uri": "https://localhost:8080/",
          "height": 424
        },
        "id": "nsvPVdQJo7ZD",
        "outputId": "def2fc9c-a897-4c94-bca8-6dd1ccf619b1"
      },
      "execution_count": 48,
      "outputs": [
        {
          "output_type": "execute_result",
          "data": {
            "text/plain": [
              "       estimated_amount  reservation_no\n",
              "0                   NaN             629\n",
              "1                   NaN             267\n",
              "2                   0.0             267\n",
              "3                   NaN              22\n",
              "4                   NaN             906\n",
              "...                 ...             ...\n",
              "49579               NaN             162\n",
              "49580               NaN             161\n",
              "49581               NaN             162\n",
              "49582               NaN             191\n",
              "49583               NaN             191\n",
              "\n",
              "[49584 rows x 2 columns]"
            ],
            "text/html": [
              "\n",
              "  <div id=\"df-c86e2964-d909-4245-acac-fefb42e94f82\" class=\"colab-df-container\">\n",
              "    <div>\n",
              "<style scoped>\n",
              "    .dataframe tbody tr th:only-of-type {\n",
              "        vertical-align: middle;\n",
              "    }\n",
              "\n",
              "    .dataframe tbody tr th {\n",
              "        vertical-align: top;\n",
              "    }\n",
              "\n",
              "    .dataframe thead th {\n",
              "        text-align: right;\n",
              "    }\n",
              "</style>\n",
              "<table border=\"1\" class=\"dataframe\">\n",
              "  <thead>\n",
              "    <tr style=\"text-align: right;\">\n",
              "      <th></th>\n",
              "      <th>estimated_amount</th>\n",
              "      <th>reservation_no</th>\n",
              "    </tr>\n",
              "  </thead>\n",
              "  <tbody>\n",
              "    <tr>\n",
              "      <th>0</th>\n",
              "      <td>NaN</td>\n",
              "      <td>629</td>\n",
              "    </tr>\n",
              "    <tr>\n",
              "      <th>1</th>\n",
              "      <td>NaN</td>\n",
              "      <td>267</td>\n",
              "    </tr>\n",
              "    <tr>\n",
              "      <th>2</th>\n",
              "      <td>0.0</td>\n",
              "      <td>267</td>\n",
              "    </tr>\n",
              "    <tr>\n",
              "      <th>3</th>\n",
              "      <td>NaN</td>\n",
              "      <td>22</td>\n",
              "    </tr>\n",
              "    <tr>\n",
              "      <th>4</th>\n",
              "      <td>NaN</td>\n",
              "      <td>906</td>\n",
              "    </tr>\n",
              "    <tr>\n",
              "      <th>...</th>\n",
              "      <td>...</td>\n",
              "      <td>...</td>\n",
              "    </tr>\n",
              "    <tr>\n",
              "      <th>49579</th>\n",
              "      <td>NaN</td>\n",
              "      <td>162</td>\n",
              "    </tr>\n",
              "    <tr>\n",
              "      <th>49580</th>\n",
              "      <td>NaN</td>\n",
              "      <td>161</td>\n",
              "    </tr>\n",
              "    <tr>\n",
              "      <th>49581</th>\n",
              "      <td>NaN</td>\n",
              "      <td>162</td>\n",
              "    </tr>\n",
              "    <tr>\n",
              "      <th>49582</th>\n",
              "      <td>NaN</td>\n",
              "      <td>191</td>\n",
              "    </tr>\n",
              "    <tr>\n",
              "      <th>49583</th>\n",
              "      <td>NaN</td>\n",
              "      <td>191</td>\n",
              "    </tr>\n",
              "  </tbody>\n",
              "</table>\n",
              "<p>49584 rows × 2 columns</p>\n",
              "</div>\n",
              "    <div class=\"colab-df-buttons\">\n",
              "\n",
              "  <div class=\"colab-df-container\">\n",
              "    <button class=\"colab-df-convert\" onclick=\"convertToInteractive('df-c86e2964-d909-4245-acac-fefb42e94f82')\"\n",
              "            title=\"Convert this dataframe to an interactive table.\"\n",
              "            style=\"display:none;\">\n",
              "\n",
              "  <svg xmlns=\"http://www.w3.org/2000/svg\" height=\"24px\" viewBox=\"0 -960 960 960\">\n",
              "    <path d=\"M120-120v-720h720v720H120Zm60-500h600v-160H180v160Zm220 220h160v-160H400v160Zm0 220h160v-160H400v160ZM180-400h160v-160H180v160Zm440 0h160v-160H620v160ZM180-180h160v-160H180v160Zm440 0h160v-160H620v160Z\"/>\n",
              "  </svg>\n",
              "    </button>\n",
              "\n",
              "  <style>\n",
              "    .colab-df-container {\n",
              "      display:flex;\n",
              "      gap: 12px;\n",
              "    }\n",
              "\n",
              "    .colab-df-convert {\n",
              "      background-color: #E8F0FE;\n",
              "      border: none;\n",
              "      border-radius: 50%;\n",
              "      cursor: pointer;\n",
              "      display: none;\n",
              "      fill: #1967D2;\n",
              "      height: 32px;\n",
              "      padding: 0 0 0 0;\n",
              "      width: 32px;\n",
              "    }\n",
              "\n",
              "    .colab-df-convert:hover {\n",
              "      background-color: #E2EBFA;\n",
              "      box-shadow: 0px 1px 2px rgba(60, 64, 67, 0.3), 0px 1px 3px 1px rgba(60, 64, 67, 0.15);\n",
              "      fill: #174EA6;\n",
              "    }\n",
              "\n",
              "    .colab-df-buttons div {\n",
              "      margin-bottom: 4px;\n",
              "    }\n",
              "\n",
              "    [theme=dark] .colab-df-convert {\n",
              "      background-color: #3B4455;\n",
              "      fill: #D2E3FC;\n",
              "    }\n",
              "\n",
              "    [theme=dark] .colab-df-convert:hover {\n",
              "      background-color: #434B5C;\n",
              "      box-shadow: 0px 1px 3px 1px rgba(0, 0, 0, 0.15);\n",
              "      filter: drop-shadow(0px 1px 2px rgba(0, 0, 0, 0.3));\n",
              "      fill: #FFFFFF;\n",
              "    }\n",
              "  </style>\n",
              "\n",
              "    <script>\n",
              "      const buttonEl =\n",
              "        document.querySelector('#df-c86e2964-d909-4245-acac-fefb42e94f82 button.colab-df-convert');\n",
              "      buttonEl.style.display =\n",
              "        google.colab.kernel.accessAllowed ? 'block' : 'none';\n",
              "\n",
              "      async function convertToInteractive(key) {\n",
              "        const element = document.querySelector('#df-c86e2964-d909-4245-acac-fefb42e94f82');\n",
              "        const dataTable =\n",
              "          await google.colab.kernel.invokeFunction('convertToInteractive',\n",
              "                                                    [key], {});\n",
              "        if (!dataTable) return;\n",
              "\n",
              "        const docLinkHtml = 'Like what you see? Visit the ' +\n",
              "          '<a target=\"_blank\" href=https://colab.research.google.com/notebooks/data_table.ipynb>data table notebook</a>'\n",
              "          + ' to learn more about interactive tables.';\n",
              "        element.innerHTML = '';\n",
              "        dataTable['output_type'] = 'display_data';\n",
              "        await google.colab.output.renderOutput(dataTable, element);\n",
              "        const docLink = document.createElement('div');\n",
              "        docLink.innerHTML = docLinkHtml;\n",
              "        element.appendChild(docLink);\n",
              "      }\n",
              "    </script>\n",
              "  </div>\n",
              "\n",
              "\n",
              "<div id=\"df-18711882-7530-4de3-8916-71349d990457\">\n",
              "  <button class=\"colab-df-quickchart\" onclick=\"quickchart('df-18711882-7530-4de3-8916-71349d990457')\"\n",
              "            title=\"Suggest charts\"\n",
              "            style=\"display:none;\">\n",
              "\n",
              "<svg xmlns=\"http://www.w3.org/2000/svg\" height=\"24px\"viewBox=\"0 0 24 24\"\n",
              "     width=\"24px\">\n",
              "    <g>\n",
              "        <path d=\"M19 3H5c-1.1 0-2 .9-2 2v14c0 1.1.9 2 2 2h14c1.1 0 2-.9 2-2V5c0-1.1-.9-2-2-2zM9 17H7v-7h2v7zm4 0h-2V7h2v10zm4 0h-2v-4h2v4z\"/>\n",
              "    </g>\n",
              "</svg>\n",
              "  </button>\n",
              "\n",
              "<style>\n",
              "  .colab-df-quickchart {\n",
              "      --bg-color: #E8F0FE;\n",
              "      --fill-color: #1967D2;\n",
              "      --hover-bg-color: #E2EBFA;\n",
              "      --hover-fill-color: #174EA6;\n",
              "      --disabled-fill-color: #AAA;\n",
              "      --disabled-bg-color: #DDD;\n",
              "  }\n",
              "\n",
              "  [theme=dark] .colab-df-quickchart {\n",
              "      --bg-color: #3B4455;\n",
              "      --fill-color: #D2E3FC;\n",
              "      --hover-bg-color: #434B5C;\n",
              "      --hover-fill-color: #FFFFFF;\n",
              "      --disabled-bg-color: #3B4455;\n",
              "      --disabled-fill-color: #666;\n",
              "  }\n",
              "\n",
              "  .colab-df-quickchart {\n",
              "    background-color: var(--bg-color);\n",
              "    border: none;\n",
              "    border-radius: 50%;\n",
              "    cursor: pointer;\n",
              "    display: none;\n",
              "    fill: var(--fill-color);\n",
              "    height: 32px;\n",
              "    padding: 0;\n",
              "    width: 32px;\n",
              "  }\n",
              "\n",
              "  .colab-df-quickchart:hover {\n",
              "    background-color: var(--hover-bg-color);\n",
              "    box-shadow: 0 1px 2px rgba(60, 64, 67, 0.3), 0 1px 3px 1px rgba(60, 64, 67, 0.15);\n",
              "    fill: var(--button-hover-fill-color);\n",
              "  }\n",
              "\n",
              "  .colab-df-quickchart-complete:disabled,\n",
              "  .colab-df-quickchart-complete:disabled:hover {\n",
              "    background-color: var(--disabled-bg-color);\n",
              "    fill: var(--disabled-fill-color);\n",
              "    box-shadow: none;\n",
              "  }\n",
              "\n",
              "  .colab-df-spinner {\n",
              "    border: 2px solid var(--fill-color);\n",
              "    border-color: transparent;\n",
              "    border-bottom-color: var(--fill-color);\n",
              "    animation:\n",
              "      spin 1s steps(1) infinite;\n",
              "  }\n",
              "\n",
              "  @keyframes spin {\n",
              "    0% {\n",
              "      border-color: transparent;\n",
              "      border-bottom-color: var(--fill-color);\n",
              "      border-left-color: var(--fill-color);\n",
              "    }\n",
              "    20% {\n",
              "      border-color: transparent;\n",
              "      border-left-color: var(--fill-color);\n",
              "      border-top-color: var(--fill-color);\n",
              "    }\n",
              "    30% {\n",
              "      border-color: transparent;\n",
              "      border-left-color: var(--fill-color);\n",
              "      border-top-color: var(--fill-color);\n",
              "      border-right-color: var(--fill-color);\n",
              "    }\n",
              "    40% {\n",
              "      border-color: transparent;\n",
              "      border-right-color: var(--fill-color);\n",
              "      border-top-color: var(--fill-color);\n",
              "    }\n",
              "    60% {\n",
              "      border-color: transparent;\n",
              "      border-right-color: var(--fill-color);\n",
              "    }\n",
              "    80% {\n",
              "      border-color: transparent;\n",
              "      border-right-color: var(--fill-color);\n",
              "      border-bottom-color: var(--fill-color);\n",
              "    }\n",
              "    90% {\n",
              "      border-color: transparent;\n",
              "      border-bottom-color: var(--fill-color);\n",
              "    }\n",
              "  }\n",
              "</style>\n",
              "\n",
              "  <script>\n",
              "    async function quickchart(key) {\n",
              "      const quickchartButtonEl =\n",
              "        document.querySelector('#' + key + ' button');\n",
              "      quickchartButtonEl.disabled = true;  // To prevent multiple clicks.\n",
              "      quickchartButtonEl.classList.add('colab-df-spinner');\n",
              "      try {\n",
              "        const charts = await google.colab.kernel.invokeFunction(\n",
              "            'suggestCharts', [key], {});\n",
              "      } catch (error) {\n",
              "        console.error('Error during call to suggestCharts:', error);\n",
              "      }\n",
              "      quickchartButtonEl.classList.remove('colab-df-spinner');\n",
              "      quickchartButtonEl.classList.add('colab-df-quickchart-complete');\n",
              "    }\n",
              "    (() => {\n",
              "      let quickchartButtonEl =\n",
              "        document.querySelector('#df-18711882-7530-4de3-8916-71349d990457 button');\n",
              "      quickchartButtonEl.style.display =\n",
              "        google.colab.kernel.accessAllowed ? 'block' : 'none';\n",
              "    })();\n",
              "  </script>\n",
              "</div>\n",
              "\n",
              "    </div>\n",
              "  </div>\n"
            ],
            "application/vnd.google.colaboratory.intrinsic+json": {
              "type": "dataframe",
              "summary": "{\n  \"name\": \"df[[\\\"estimated_amount\\\", \\\"reservation_no\\\"]]\",\n  \"rows\": 49584,\n  \"fields\": [\n    {\n      \"column\": \"estimated_amount\",\n      \"properties\": {\n        \"dtype\": \"number\",\n        \"std\": 9457.778735894368,\n        \"min\": 0.0,\n        \"max\": 560000.0,\n        \"num_unique_values\": 87,\n        \"samples\": [\n          67000.0,\n          0.0,\n          19000.0\n        ],\n        \"semantic_type\": \"\",\n        \"description\": \"\"\n      }\n    },\n    {\n      \"column\": \"reservation_no\",\n      \"properties\": {\n        \"dtype\": \"number\",\n        \"std\": 259,\n        \"min\": 0,\n        \"max\": 998,\n        \"num_unique_values\": 999,\n        \"samples\": [\n          406,\n          466,\n          946\n        ],\n        \"semantic_type\": \"\",\n        \"description\": \"\"\n      }\n    }\n  ]\n}"
            }
          },
          "metadata": {},
          "execution_count": 48
        }
      ]
    },
    {
      "cell_type": "code",
      "source": [
        "df = df.dropna()"
      ],
      "metadata": {
        "id": "aoyRKnD0vF7c"
      },
      "execution_count": 49,
      "outputs": []
    },
    {
      "cell_type": "code",
      "source": [],
      "metadata": {
        "colab": {
          "base_uri": "https://localhost:8080/"
        },
        "id": "a0NTIGVtx9Gc",
        "outputId": "4f520787-e9bf-47ba-dbac-246faf3d341a"
      },
      "execution_count": 54,
      "outputs": [
        {
          "output_type": "stream",
          "name": "stdout",
          "text": [
            "estimated_amount reservation_no\n"
          ]
        }
      ]
    },
    {
      "cell_type": "code",
      "source": [
        "df[\"estimated_amount\"] = df[\"estimated_amount\"].astype('int64')\n",
        "df[\"actual_amount\"] = df[\"actual_amount\"].astype('int64')"
      ],
      "metadata": {
        "id": "pyJiWOS0q7RT"
      },
      "execution_count": 28,
      "outputs": []
    },
    {
      "cell_type": "code",
      "source": [
        "df.dtypes"
      ],
      "metadata": {
        "colab": {
          "base_uri": "https://localhost:8080/"
        },
        "id": "ynDQd9GevMlM",
        "outputId": "ffab484a-288c-4020-dcce-d237e02e2ba5"
      },
      "execution_count": 37,
      "outputs": [
        {
          "output_type": "execute_result",
          "data": {
            "text/plain": [
              "log_id                            int64\n",
              "process_id                       object\n",
              "function_name                    object\n",
              "process                          object\n",
              "status_name                      object\n",
              "target_datetime                  object\n",
              "reservation_no                  float64\n",
              "hospital_user_id                 object\n",
              "taxi_id                          object\n",
              "taxi_driver_name                 object\n",
              "age                              object\n",
              "gender                          float64\n",
              "height                           object\n",
              "weight                           object\n",
              "passenger                        object\n",
              "depart_date_at                   object\n",
              "depart_address                   object\n",
              "destination_address              object\n",
              "destination_type                 object\n",
              "taxi_equipments                  object\n",
              "equipments                       object\n",
              "notices                          object\n",
              "taxies                           object\n",
              "response_time                    object\n",
              "estimated_amount                  int64\n",
              "scheduled_departure_datetime     object\n",
              "call_type                        object\n",
              "call_time                        object\n",
              "reads                            object\n",
              "taxi_status_name                float64\n",
              "actual_amount                     int64\n",
              "evaluation                      float64\n",
              "regist_datetime                  object\n",
              "person_in_charge                 object\n",
              "medical_other_equipment          object\n",
              "oxygen_amount                   float64\n",
              "nurse_necessity                  object\n",
              "stretcher_necessity              object\n",
              "dtype: object"
            ]
          },
          "metadata": {},
          "execution_count": 37
        }
      ]
    },
    {
      "cell_type": "code",
      "source": [
        "print(df[[\"estimated_amount\", \"reservation_no\"]])"
      ],
      "metadata": {
        "colab": {
          "base_uri": "https://localhost:8080/"
        },
        "id": "NJetr_jXvWa7",
        "outputId": "a27f3d45-e7f4-4d2c-ed12-a04ee818c871"
      },
      "execution_count": 57,
      "outputs": [
        {
          "output_type": "stream",
          "name": "stdout",
          "text": [
            "Empty DataFrame\n",
            "Columns: [estimated_amount, reservation_no]\n",
            "Index: []\n"
          ]
        }
      ]
    },
    {
      "cell_type": "code",
      "source": [
        "x = df[\"actual_amount\"]\n",
        "y = df[\"estimated_amount\"]\n",
        "\n",
        "fig, ax = plt.subplots()\n",
        "ax.plot(x, y)\n",
        "plt.show()"
      ],
      "metadata": {
        "colab": {
          "base_uri": "https://localhost:8080/",
          "height": 430
        },
        "id": "eTUIeF5imUo2",
        "outputId": "a8851132-a824-4380-b30b-c6dd6a5f1947"
      },
      "execution_count": 62,
      "outputs": [
        {
          "output_type": "display_data",
          "data": {
            "text/plain": [
              "<Figure size 640x480 with 1 Axes>"
            ],
            "image/png": "[encoded data removed]"
          },
          "metadata": {}
        }
      ]
    },
    {
      "cell_type": "code",
      "source": [
        "x = [1, 2, 3]\n",
        "y = [8, 2, 4]\n",
        "\n",
        "fig, ax = plt.subplots()\n",
        "ax.bar(x, y)\n",
        "plt.show()"
      ],
      "metadata": {
        "colab": {
          "base_uri": "https://localhost:8080/",
          "height": 430
        },
        "id": "4Hab18Gsy2G8",
        "outputId": "628b8c83-4d84-4de7-95e3-90bb43d8dfc9"
      },
      "execution_count": 63,
      "outputs": [
        {
          "output_type": "display_data",
          "data": {
            "text/plain": [
              "<Figure size 640x480 with 1 Axes>"
            ],
            "image/png": "[encoded data removed]"
          },
          "metadata": {}
        }
      ]
    },
    {
      "cell_type": "code",
      "source": [
        "x = [1, 2, 3]\n",
        "y = [8, 2, 4]\n",
        "\n",
        "fig, ax = plt.subplots()\n",
        "labels = ['label 1', 'label 2', 'label 3']\n",
        "ax.bar(x, y, tick_label=labels)\n",
        "plt.show()"
      ],
      "metadata": {
        "colab": {
          "base_uri": "https://localhost:8080/",
          "height": 430
        },
        "id": "rkm76E3oy7bD",
        "outputId": "f87b67cd-7416-4b41-a66f-4593df851116"
      },
      "execution_count": 64,
      "outputs": [
        {
          "output_type": "display_data",
          "data": {
            "text/plain": [
              "<Figure size 640x480 with 1 Axes>"
            ],
            "image/png": "[encoded data removed]"
          },
          "metadata": {}
        }
      ]
    },
    {
      "cell_type": "markdown",
      "source": [
        "Multiple graphs"
      ],
      "metadata": {
        "id": "tNeTFU4gz2y8"
      }
    },
    {
      "cell_type": "code",
      "source": [
        "fig, ax = plt.subplots()\n",
        "\n",
        "x = [1, 2, 3]\n",
        "y1 = [4, 12, 5]\n",
        "y2 = [8, 2, 4]\n",
        "\n",
        "ax.bar(x, y1, label='y1')\n",
        "ax.bar(x, y2, label='y2')\n",
        "ax.legend()\n",
        "plt.show()"
      ],
      "metadata": {
        "colab": {
          "base_uri": "https://localhost:8080/",
          "height": 430
        },
        "id": "D5z3LJxZz5_1",
        "outputId": "7ffae449-9c09-4a27-d003-1af606955cbb"
      },
      "execution_count": 66,
      "outputs": [
        {
          "output_type": "display_data",
          "data": {
            "text/plain": [
              "<Figure size 640x480 with 1 Axes>"
            ],
            "image/png": "[encoded data removed]"
          },
          "metadata": {}
        }
      ]
    },
    {
      "cell_type": "markdown",
      "source": [
        "reduce the width of bars"
      ],
      "metadata": {
        "id": "YPX0X6fH0ExZ"
      }
    },
    {
      "cell_type": "code",
      "source": [
        "fig, ax = plt.subplots()\n",
        "\n",
        "x = [1, 2, 3]\n",
        "y1 = [4, 12, 5]\n",
        "y2 = [8, 2, 4]\n",
        "width = 0.4\n",
        "ax.bar(x, y1, width=width, label='y1')\n",
        "ax.bar(x, y2, width=width, label='y2')\n",
        "ax.legend()\n",
        "plt.show()"
      ],
      "metadata": {
        "colab": {
          "base_uri": "https://localhost:8080/",
          "height": 430
        },
        "id": "ZQPuJyt50K35",
        "outputId": "74793ff0-5aa6-428f-a616-8d2556912cec"
      },
      "execution_count": 67,
      "outputs": [
        {
          "output_type": "display_data",
          "data": {
            "text/plain": [
              "<Figure size 640x480 with 1 Axes>"
            ],
            "image/png": "[encoded data removed]"
          },
          "metadata": {}
        }
      ]
    },
    {
      "cell_type": "markdown",
      "source": [
        "Now move the X-axis of y2 to the right by 0.4."
      ],
      "metadata": {
        "id": "_RcKXH870gVj"
      }
    },
    {
      "cell_type": "code",
      "source": [
        "fig, ax = plt.subplots()\n",
        "\n",
        "x = [1, 2, 3]\n",
        "y1 = [4, 12, 5]\n",
        "y2 = [8, 2, 4]\n",
        "width = 0.4\n",
        "# y1\n",
        "ax.bar(x, y1, width=width, label='y1')\n",
        "# y2\n",
        "x2 = [num + width for num in x]\n",
        "ax.bar(x2, y2, width=width, label='y2')\n",
        "ax.legend()\n",
        "plt.show()"
      ],
      "metadata": {
        "colab": {
          "base_uri": "https://localhost:8080/",
          "height": 430
        },
        "id": "owjhVrzf0h_z",
        "outputId": "2cb00386-da90-4c97-d8f2-51b2556b780a"
      },
      "execution_count": 68,
      "outputs": [
        {
          "output_type": "display_data",
          "data": {
            "text/plain": [
              "<Figure size 640x480 with 1 Axes>"
            ],
            "image/png": "[encoded data removed]"
          },
          "metadata": {}
        }
      ]
    },
    {
      "cell_type": "markdown",
      "source": [
        "The xticks function specifies the label display position in the first argument and the label name in the second argument.\n",
        "If x is used for the label display position, it will be displayed at a position deviated from the center of the adjacent graph as shown below."
      ],
      "metadata": {
        "id": "kLUSoYq01ARy"
      }
    },
    {
      "cell_type": "code",
      "source": [
        "fig, ax = plt.subplots()\n",
        "\n",
        "x = [1, 2, 3]\n",
        "y1 = [4, 12, 5]\n",
        "y2 = [8, 2, 4]\n",
        "labels = ['Apple', 'Banana', 'Orange']\n",
        "width = 0.4\n",
        "\n",
        "ax.bar(x, y1, width=width, label='y1')\n",
        "x2 = [num + width for num in x]\n",
        "ax.bar(x2, y2, width=width, label='y2')\n",
        "ax.legend()\n",
        "plt.xticks(x, labels)\n",
        "plt.show()"
      ],
      "metadata": {
        "colab": {
          "base_uri": "https://localhost:8080/",
          "height": 430
        },
        "id": "Mk2RAZVY1BXr",
        "outputId": "cb3bf65a-624a-4818-f05d-68afb7a50174"
      },
      "execution_count": 69,
      "outputs": [
        {
          "output_type": "display_data",
          "data": {
            "text/plain": [
              "<Figure size 640x480 with 1 Axes>"
            ],
            "image/png": "[encoded data removed]"
          },
          "metadata": {}
        }
      ]
    },
    {
      "cell_type": "markdown",
      "source": [
        "I want the label to appear exactly in the center of the adjacent graphs, so I think this can be solved by moving each element of x to the right by width / 2, which is half the width of the graph, or 0.2."
      ],
      "metadata": {
        "id": "VRogpL-h1R4L"
      }
    },
    {
      "cell_type": "code",
      "source": [
        "fig, ax = plt.subplots()\n",
        "\n",
        "x = [1, 2, 3]\n",
        "y1 = [4, 12, 5]\n",
        "y2 = [8, 2, 4]\n",
        "labels = ['Apple', 'Banana', 'Orange']\n",
        "width = 0.4\n",
        "\n",
        "ax.bar(x, y1, width=width, label='y1')\n",
        "\n",
        "x2 = [num + width for num in x]\n",
        "ax.bar(x2, y2, width=width, label='y2')\n",
        "ax.legend()\n",
        "\n",
        "label_axis = [num + width/2 for num in x]\n",
        "plt.xticks(label_axis, labels)\n",
        "plt.show()"
      ],
      "metadata": {
        "colab": {
          "base_uri": "https://localhost:8080/",
          "height": 430
        },
        "id": "XG6cFgpa1S6L",
        "outputId": "82b42a83-f140-4015-da7c-3ebc4dd5dc58"
      },
      "execution_count": 70,
      "outputs": [
        {
          "output_type": "display_data",
          "data": {
            "text/plain": [
              "<Figure size 640x480 with 1 Axes>"
            ],
            "image/png": "[encoded data removed]"
          },
          "metadata": {}
        }
      ]
    },
    {
      "cell_type": "markdown",
      "source": [
        "In this example, we consider how to draw a stacked bar chart with a commonxvalue and differentyvalues（y1andy2) as shown below."
      ],
      "metadata": {
        "id": "vXhLUszM1oK7"
      }
    },
    {
      "cell_type": "code",
      "source": [
        "fig, ax = plt.subplots()\n",
        "\n",
        "x = [1, 2, 3]\n",
        "y1 = [4, 12, 5]\n",
        "y2 = [8, 2, 4]\n",
        "y_total = np.add(y1, y2)\n",
        "labels = ['Apple', 'Banana', 'Orange']\n",
        "\n",
        "ax.bar(x, y_total, tick_label=labels, label='y2')\n",
        "ax.bar(x, y1, label='y1')\n",
        "ax.legend()\n",
        "plt.show()"
      ],
      "metadata": {
        "colab": {
          "base_uri": "https://localhost:8080/",
          "height": 430
        },
        "id": "zPcBoPnF1pTr",
        "outputId": "5dd83016-7b76-407d-d717-d1387e269a62"
      },
      "execution_count": 71,
      "outputs": [
        {
          "output_type": "display_data",
          "data": {
            "text/plain": [
              "<Figure size 640x480 with 1 Axes>"
            ],
            "image/png": "[encoded data removed]"
          },
          "metadata": {}
        }
      ]
    },
    {
      "cell_type": "markdown",
      "source": [
        "The concept is the same for drawing a stacked bar chart consisting of three data sets as it is for the two cases.\n",
        "Let's try to draw a stacked bar chart by ourselves using the following three data sets."
      ],
      "metadata": {
        "id": "lvcj163H1_jz"
      }
    },
    {
      "cell_type": "code",
      "source": [
        "fig, ax = plt.subplots()\n",
        "x = [1, 2, 3]\n",
        "y1 = [4, 12, 5]\n",
        "y2 = [8, 2, 4]\n",
        "y3 = [2, 6, 8]\n",
        "y1_y2_total = np.add(y1, y2)\n",
        "y_total = np.add(y1_y2_total, y3)\n",
        "labels = ['Apple', 'Banana', 'Orange']\n",
        "ax.bar(x, y_total, tick_label=labels, label='y3')\n",
        "ax.bar(x, y1_y2_total, tick_label=labels, label='y2')\n",
        "ax.bar(x, y1, label='y1')\n",
        "ax.legend()\n",
        "plt.show()"
      ],
      "metadata": {
        "colab": {
          "base_uri": "https://localhost:8080/",
          "height": 430
        },
        "id": "tWQNvgTA2Anc",
        "outputId": "a6fee555-f024-4786-de5d-c90f15fcfb87"
      },
      "execution_count": 72,
      "outputs": [
        {
          "output_type": "display_data",
          "data": {
            "text/plain": [
              "<Figure size 640x480 with 1 Axes>"
            ],
            "image/png": "[encoded data removed]"
          },
          "metadata": {}
        }
      ]
    },
    {
      "cell_type": "code",
      "source": [],
      "metadata": {
        "id": "S6jJCbwx1HM7"
      },
      "execution_count": null,
      "outputs": []
    }
  ]
}