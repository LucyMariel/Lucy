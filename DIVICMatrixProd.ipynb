{
  "nbformat": 4,
  "nbformat_minor": 0,
  "metadata": {
    "colab": {
      "provenance": [],
      "authorship_tag": "ABX9TyNeTHdzIZz/JBCbE4kkbBEH",
      "include_colab_link": true
    },
    "kernelspec": {
      "name": "python3",
      "display_name": "Python 3"
    },
    "language_info": {
      "name": "python"
    }
  },
  "cells": [
    {
      "cell_type": "markdown",
      "metadata": {
        "id": "view-in-github",
        "colab_type": "text"
      },
      "source": [
        "<a href=\"https://colab.research.google.com/github/LucyMariel/Lucy/blob/master/DIVICMatrixProd.ipynb\" target=\"_parent\"><img src=\"https://colab.research.google.com/assets/colab-badge.svg\" alt=\"Open In Colab\"/></a>"
      ]
    },
    {
      "cell_type": "code",
      "execution_count": null,
      "metadata": {
        "id": "riJSh_MNfWeP"
      },
      "outputs": [],
      "source": []
    },
    {
      "cell_type": "markdown",
      "source": [
        "**Matrix product**\n",
        "\n",
        "Consider the following matrices A and B. When expressed in NumPy, it becomes as follows.\n",
        "import numpy as np\n",
        "a_ndarray = np.array([[-1, 2, 3], [4, -5, 6], [7, 8, -9]])\n",
        "b_ndarray = np.array([[0, 2, 1], [0, 2, -8], [2, 9, -1]])"
      ],
      "metadata": {
        "id": "RvljdZbAff6W"
      }
    },
    {
      "cell_type": "code",
      "source": [
        "import numpy as np\n",
        "a_ndarray = np.array([[-1, 2, 3], [4, -5, 6], [7, 8, -9]])\n",
        "b_ndarray = np.array([[0, 2, 1], [0, 2, -8], [2, 9, -1]])"
      ],
      "metadata": {
        "id": "ONBkurB9f6Eo"
      },
      "execution_count": 1,
      "outputs": []
    },
    {
      "cell_type": "markdown",
      "source": [
        "**[Problem 1] Matrix product is calculated manually**\n",
        "\n",
        "\n",
        "Solve the matrix product of A and B by hand.\n",
        "Please also explain the calculation process using markdown text."
      ],
      "metadata": {
        "id": "jiS9OuW6gYkL"
      }
    },
    {
      "cell_type": "markdown",
      "source": [
        "First Row of\n",
        "𝐴\n",
        "A and Columns of\n",
        "𝐵\n",
        "B:\n",
        "𝐶\n",
        "11\n",
        "=\n",
        "(\n",
        "−\n",
        "1\n",
        "⋅\n",
        "0\n",
        ")\n",
        "+\n",
        "(\n",
        "2\n",
        "⋅\n",
        "0\n",
        ")\n",
        "+\n",
        "(\n",
        "3\n",
        "⋅\n",
        "2\n",
        ")\n",
        "=\n",
        "0\n",
        "+\n",
        "0\n",
        "+\n",
        "6\n",
        "=\n",
        "6\n",
        "C\n",
        "11\n",
        "​\n",
        " =(−1⋅0)+(2⋅0)+(3⋅2)=0+0+6=6\n",
        "\n",
        "𝐶\n",
        "12\n",
        "=\n",
        "(\n",
        "−\n",
        "1\n",
        "⋅\n",
        "2\n",
        ")\n",
        "+\n",
        "(\n",
        "2\n",
        "⋅\n",
        "2\n",
        ")\n",
        "+\n",
        "(\n",
        "3\n",
        "⋅\n",
        "9\n",
        ")\n",
        "=\n",
        "−\n",
        "2\n",
        "+\n",
        "4\n",
        "+\n",
        "27\n",
        "=\n",
        "29\n",
        "C\n",
        "12\n",
        "​\n",
        " =(−1⋅2)+(2⋅2)+(3⋅9)=−2+4+27=29\n",
        "\n",
        "𝐶\n",
        "13\n",
        "=\n",
        "(\n",
        "−\n",
        "1\n",
        "⋅\n",
        "1\n",
        ")\n",
        "+\n",
        "(\n",
        "2\n",
        "⋅\n",
        "−\n",
        "8\n",
        ")\n",
        "+\n",
        "(\n",
        "3\n",
        "⋅\n",
        "−\n",
        "1\n",
        ")\n",
        "=\n",
        "−\n",
        "1\n",
        "−\n",
        "16\n",
        "−\n",
        "3\n",
        "=\n",
        "−\n",
        "20\n",
        "C\n",
        "13\n",
        "​\n",
        " =(−1⋅1)+(2⋅−8)+(3⋅−1)=−1−16−3=−20\n",
        "\n",
        "\n",
        "Second Row of\n",
        "𝐴\n",
        "A and Columns of\n",
        "𝐵\n",
        "B:\n",
        "𝐶\n",
        "21\n",
        "=\n",
        "(\n",
        "4\n",
        "⋅\n",
        "0\n",
        ")\n",
        "+\n",
        "(\n",
        "−\n",
        "5\n",
        "⋅\n",
        "0\n",
        ")\n",
        "+\n",
        "(\n",
        "6\n",
        "⋅\n",
        "2\n",
        ")\n",
        "=\n",
        "0\n",
        "+\n",
        "0\n",
        "+\n",
        "12\n",
        "=\n",
        "12\n",
        "C\n",
        "21\n",
        "​\n",
        " =(4⋅0)+(−5⋅0)+(6⋅2)=0+0+12=12\n",
        "\n",
        "𝐶\n",
        "22\n",
        "=\n",
        "(\n",
        "4\n",
        "⋅\n",
        "2\n",
        ")\n",
        "+\n",
        "(\n",
        "−\n",
        "5\n",
        "⋅\n",
        "2\n",
        ")\n",
        "+\n",
        "(\n",
        "6\n",
        "⋅\n",
        "9\n",
        ")\n",
        "=\n",
        "8\n",
        "−\n",
        "10\n",
        "+\n",
        "54\n",
        "=\n",
        "52\n",
        "C\n",
        "22\n",
        "​\n",
        " =(4⋅2)+(−5⋅2)+(6⋅9)=8−10+54=52\n",
        "\n",
        "𝐶\n",
        "23\n",
        "=\n",
        "(\n",
        "4\n",
        "⋅\n",
        "1\n",
        ")\n",
        "+\n",
        "(\n",
        "−\n",
        "5\n",
        "⋅\n",
        "−\n",
        "8\n",
        ")\n",
        "+\n",
        "(\n",
        "6\n",
        "⋅\n",
        "−\n",
        "1\n",
        ")\n",
        "=\n",
        "4\n",
        "+\n",
        "40\n",
        "−\n",
        "6\n",
        "=\n",
        "38\n",
        "C\n",
        "23\n",
        "​\n",
        " =(4⋅1)+(−5⋅−8)+(6⋅−1)=4+40−6=38\n",
        "\n",
        "\n",
        "Third Row of\n",
        "𝐴\n",
        "A and Columns of\n",
        "𝐵\n",
        "B:\n",
        "𝐶\n",
        "31\n",
        "=\n",
        "(\n",
        "7\n",
        "⋅\n",
        "0\n",
        ")\n",
        "+\n",
        "(\n",
        "8\n",
        "⋅\n",
        "0\n",
        ")\n",
        "+\n",
        "(\n",
        "−\n",
        "9\n",
        "⋅\n",
        "2\n",
        ")\n",
        "=\n",
        "0\n",
        "+\n",
        "0\n",
        "−\n",
        "18\n",
        "=\n",
        "−\n",
        "18\n",
        "C\n",
        "31\n",
        "​\n",
        " =(7⋅0)+(8⋅0)+(−9⋅2)=0+0−18=−18\n",
        "\n",
        "𝐶\n",
        "32\n",
        "=\n",
        "(\n",
        "7\n",
        "⋅\n",
        "2\n",
        ")\n",
        "+\n",
        "(\n",
        "8\n",
        "⋅\n",
        "2\n",
        ")\n",
        "+\n",
        "(\n",
        "−\n",
        "9\n",
        "⋅\n",
        "9\n",
        ")\n",
        "=\n",
        "14\n",
        "+\n",
        "16\n",
        "−\n",
        "81\n",
        "=\n",
        "−\n",
        "51\n",
        "C\n",
        "32\n",
        "​\n",
        " =(7⋅2)+(8⋅2)+(−9⋅9)=14+16−81=−51\n",
        "\n",
        "𝐶\n",
        "33\n",
        "=\n",
        "(\n",
        "7\n",
        "⋅\n",
        "1\n",
        ")\n",
        "+\n",
        "(\n",
        "8\n",
        "⋅\n",
        "−\n",
        "8\n",
        ")\n",
        "+\n",
        "(\n",
        "−\n",
        "9\n",
        "⋅\n",
        "−\n",
        "1\n",
        ")\n",
        "=\n",
        "7\n",
        "−\n",
        "64\n",
        "+\n",
        "9\n",
        "=\n",
        "−\n",
        "48\n",
        "C\n",
        "33\n",
        "​\n",
        " =(7⋅1)+(8⋅−8)+(−9⋅−1)=7−64+9=−48\n",
        ""
      ],
      "metadata": {
        "id": "4NObPR5Wh0OF"
      }
    },
    {
      "cell_type": "markdown",
      "source": [
        "Multiply the first row of A by the corresponding element of the first column of\n",
        "B, and then sum the products. Then the same process for other rows and columns.\n"
      ],
      "metadata": {
        "id": "bjsISY-Xh3EK"
      }
    },
    {
      "cell_type": "markdown",
      "source": [
        "**[Problem 2] Calculation by NumPy function**\n",
        "\n",
        "This matrix product of NumPy can be easily calculated using np.matmul() or np.dot() , or the @ operator.\n",
        "\n",
        "Use these to calculate the matrix product.\n",
        "\n",
        "numpy.matmul — NumPy v1.16 Manual\n",
        "\n",
        "numpy.dot — NumPy v1.16 Manual\n",
        "\n",
        "《Three types of difference》\n",
        "\n",
        " np.matmul()  and  np.dot()  behave differently in 3D or higher arrays. The  @  operator works the same as  np.matmul() .\n",
        "\n",
        "In the matrix multiplication of a two-dimensional array like this time np.matmul() or @ Operators are officially recommended. The following is a quote from the explanation of np.dot() ."
      ],
      "metadata": {
        "id": "vTYNwerolzdJ"
      }
    },
    {
      "cell_type": "markdown",
      "source": [
        "Matrix product using np.matmul()"
      ],
      "metadata": {
        "id": "g_aJ0dr_nFJh"
      }
    },
    {
      "cell_type": "code",
      "source": [
        "import numpy as np\n",
        "\n",
        "# Define matrices A and B\n",
        "A = np.array([[-1, 2, 3], [4, -5, 6], [7, 8, -9]])\n",
        "B = np.array([[0, 2, 1], [0, 2, -8], [2, 9, -1]])\n",
        "\n",
        "# Calculate the matrix product using np.matmul()\n",
        "C = np.matmul(A, B)\n",
        "\n",
        "# Print the resulting matrix\n",
        "print(\"Matrix product of A and B:\")\n",
        "print(C)"
      ],
      "metadata": {
        "colab": {
          "base_uri": "https://localhost:8080/"
        },
        "id": "L6snbeXhl-BG",
        "outputId": "7b94a31f-61cd-4128-b631-36eb06b25109"
      },
      "execution_count": 2,
      "outputs": [
        {
          "output_type": "stream",
          "name": "stdout",
          "text": [
            "Matrix product of A and B:\n",
            "[[  6  29 -20]\n",
            " [ 12  52  38]\n",
            " [-18 -51 -48]]\n"
          ]
        }
      ]
    },
    {
      "cell_type": "markdown",
      "source": [
        "Matrix product using np.dot()"
      ],
      "metadata": {
        "id": "tZ1Jo6wWnRIQ"
      }
    },
    {
      "cell_type": "code",
      "source": [
        "import numpy as np\n",
        "\n",
        "# Define matrices A and B\n",
        "A = np.array([[-1, 2, 3], [4, -5, 6], [7, 8, -9]])\n",
        "B = np.array([[0, 2, 1], [0, 2, -8], [2, 9, -1]])\n",
        "\n",
        "# Calculate the matrix product using np.dot()\n",
        "C = np.dot(A, B)\n",
        "\n",
        "# Print the resulting matrix\n",
        "print(\"Matrix product of A and B using np.dot():\")\n",
        "print(C)"
      ],
      "metadata": {
        "colab": {
          "base_uri": "https://localhost:8080/"
        },
        "id": "MK9AogX9nYQF",
        "outputId": "99ad1b82-527b-4eae-aa44-fa3d50d2d42a"
      },
      "execution_count": 3,
      "outputs": [
        {
          "output_type": "stream",
          "name": "stdout",
          "text": [
            "Matrix product of A and B using np.dot():\n",
            "[[  6  29 -20]\n",
            " [ 12  52  38]\n",
            " [-18 -51 -48]]\n"
          ]
        }
      ]
    },
    {
      "cell_type": "markdown",
      "source": [
        "Matrix product using @"
      ],
      "metadata": {
        "id": "qjdJFVZjoLHT"
      }
    },
    {
      "cell_type": "code",
      "source": [
        "import numpy as np\n",
        "\n",
        "# Define matrices A and B\n",
        "A = np.array([[-1, 2, 3], [4, -5, 6], [7, 8, -9]])\n",
        "B = np.array([[0, 2, 1], [0, 2, -8], [2, 9, -1]])\n",
        "\n",
        "# Calculate the matrix product using the @ operator\n",
        "C = A @ B\n",
        "\n",
        "# Print the resulting matrix\n",
        "print(\"Matrix product of A and B using the @ operator:\")\n",
        "print(C)"
      ],
      "metadata": {
        "colab": {
          "base_uri": "https://localhost:8080/"
        },
        "id": "7lTu7iVeoKDl",
        "outputId": "f12f866c-ac12-4b7e-c7d0-4c5dae064cfe"
      },
      "execution_count": 4,
      "outputs": [
        {
          "output_type": "stream",
          "name": "stdout",
          "text": [
            "Matrix product of A and B using the @ operator:\n",
            "[[  6  29 -20]\n",
            " [ 12  52  38]\n",
            " [-18 -51 -48]]\n"
          ]
        }
      ]
    },
    {
      "cell_type": "markdown",
      "source": [
        "**Scratch implementation of matrix product [Problem 3] Implementation of calculation of a certain element**\n",
        "\n",
        "When doing the calculations by hand, you may have first paid attention to row 0 of matrix A and column 0 of matrix B, and then performed the following calculations.\n",
        "\n",
        "Multiply the (0,0) element $a_{0, 0}$ of matrix A with the (0,0) element $b_{0, 0}$ of matrix B\n",
        "Multiply the (0,1) element $a_{0, 1}$ of matrix A with the (1,0) element $b_{1, 0}$ of matrix B\n",
        "Multiply the (0,2) element $a_{0, 2}$ of matrix A with the (2,0) element $b_{2, 0}$ of matrix B\n",
        "Add all those values together\n",
        "Expressed as a formula\n",
        "\n",
        "2\n",
        "∑\n",
        "K\n",
        "=\n",
        "0\n",
        "\n",
        "a\n",
        "0\n",
        ",\n",
        "K\n",
        "b\n",
        "K\n",
        ",\n",
        "0\n",
        "\n",
        "\n",
        "\n",
        "Write code to do this calculation without using np.matmul() , np.dot() or @ operators.\n",
        "\n"
      ],
      "metadata": {
        "id": "fkDaGPxmo21y"
      }
    },
    {
      "cell_type": "code",
      "source": [
        "import numpy as np\n",
        "\n",
        "# Define matrices A and B\n",
        "A = np.array([[-1, 2, 3], [4, -5, 6], [7, 8, -9]])\n",
        "B = np.array([[0, 2, 1], [0, 2, -8], [2, 9, -1]])\n",
        "\n",
        "# Initialize the result matrix with zeros\n",
        "C = np.zeros((A.shape[0], B.shape[1]))\n",
        "\n",
        "# Perform the manual matrix multiplication\n",
        "for i in range(A.shape[0]):\n",
        "    for j in range(B.shape[1]):\n",
        "        for k in range(A.shape[1]):\n",
        "            C[i, j] += A[i, k] * B[k, j]\n",
        "\n",
        "# Print the resulting matrix\n",
        "print(\"Matrix product of A and B calculated manually:\")\n",
        "print(C)"
      ],
      "metadata": {
        "colab": {
          "base_uri": "https://localhost:8080/"
        },
        "id": "8PJ7ikPKpOUL",
        "outputId": "54551c42-7f68-42bc-ff2c-aa11ecc60341"
      },
      "execution_count": 5,
      "outputs": [
        {
          "output_type": "stream",
          "name": "stdout",
          "text": [
            "Matrix product of A and B calculated manually:\n",
            "[[  6.  29. -20.]\n",
            " [ 12.  52.  38.]\n",
            " [-18. -51. -48.]]\n"
          ]
        }
      ]
    },
    {
      "cell_type": "markdown",
      "source": [
        "**[Problem 4] Creating a function that performs matrix multiplication**\n",
        "\n",
        "Extend the code in Problem 3 to complete the matrix product scratch implementation. It should be a function that takes matrices A and B as arguments and returns the matrix product.\n",
        "\n",
        "When calculating the matrix product, you will repeat the calculation in Problem 3 for different rows and columns.\n",
        "\n",
        "Each element $c_{i, j}$ of the matrix C of the calculated result $3 \\times 3$ is expressed as follows.\n",
        "\n",
        "c\n",
        "i\n",
        ",\n",
        "j\n",
        "=\n",
        "2\n",
        "∑\n",
        "K\n",
        "=\n",
        "0\n",
        "\n",
        "a\n",
        "i\n",
        ",\n",
        "K\n",
        "b\n",
        "K\n",
        ",\n",
        "j\n",
        "By using the for statement and moving the index of ndarray, a total of 9 elements can be calculated. You can increase the index $i$ or $j$ by 1 to move to the next row or column."
      ],
      "metadata": {
        "id": "-RKOYSv2q9P2"
      }
    },
    {
      "cell_type": "code",
      "source": [
        "import numpy as np\n",
        "\n",
        "def matrix_product(A, B):\n",
        "    # Get the dimensions of the input matrices\n",
        "    rows_A, cols_A = A.shape\n",
        "    rows_B, cols_B = B.shape\n",
        "\n",
        "    # Ensure the matrices can be multiplied (i.e., cols_A == rows_B)\n",
        "    if cols_A != rows_B:\n",
        "        raise ValueError(\"The number of columns in A must be equal to the number of rows in B\")\n",
        "\n",
        "    # Initialize the result matrix with zeros\n",
        "    C = np.zeros((rows_A, cols_B))\n",
        "\n",
        "    # Perform the manual matrix multiplication\n",
        "    for i in range(rows_A):\n",
        "        for j in range(cols_B):\n",
        "            for k in range(cols_A):\n",
        "                C[i, j] += A[i, k] * B[k, j]\n",
        "\n",
        "    return C\n",
        "\n",
        "# Define matrices A and B\n",
        "A = np.array([[-1, 2, 3], [4, -5, 6], [7, 8, -9]])\n",
        "B = np.array([[0, 2, 1], [0, 2, -8], [2, 9, -1]])\n",
        "\n",
        "# Calculate the matrix product using the custom function\n",
        "C = matrix_product(A, B)\n",
        "\n",
        "# Print the resulting matrix\n",
        "print(\"Matrix product of A and B using custom function:\")\n",
        "print(C)"
      ],
      "metadata": {
        "colab": {
          "base_uri": "https://localhost:8080/"
        },
        "id": "OXll8u2rr1XK",
        "outputId": "afa314ea-bdfb-46d5-ed3b-c098c990a984"
      },
      "execution_count": 6,
      "outputs": [
        {
          "output_type": "stream",
          "name": "stdout",
          "text": [
            "Matrix product of A and B using custom function:\n",
            "[[  6.  29. -20.]\n",
            " [ 12.  52.  38.]\n",
            " [-18. -51. -48.]]\n"
          ]
        }
      ]
    },
    {
      "cell_type": "markdown",
      "source": [
        "**A combination of matrices with undefined matrix products**\n",
        "\n",
        "Now consider the following example\n",
        "\n",
        "d_ndarray = np.array([[-1, 2, 3], [4, -5, 6]])\n",
        "e_ndarray = np.array([[-9, 8, 7], [6, -5, 4]])\n",
        "\n",
        "**[Problem 5] Judge the input whose calculation is not defined**\n",
        "\n",
        "Depending on the implementation method, the function created in Problem 4 may work even if this D and E array is input. In this case, incorrect calculations will be made. Also, even if an error occurs in the middle, a message that is hard to understand why the error occurred is displayed directly.\n",
        "\n",
        "You can prevent this by using an if statement or similar, and add code to display the problem in the input form using print() ."
      ],
      "metadata": {
        "id": "kkmxSMxVt2lE"
      }
    },
    {
      "cell_type": "code",
      "source": [
        "import numpy as np\n",
        "\n",
        "def matrix_product(A, B):\n",
        "    # Get the dimensions of the input matrices\n",
        "    rows_A, cols_A = A.shape\n",
        "    rows_B, cols_B = B.shape\n",
        "\n",
        "    # Ensure the matrices can be multiplied (i.e., cols_A == rows_B)\n",
        "    if cols_A != rows_B:\n",
        "        raise ValueError(\"The number of columns in A must be equal to the number of rows in B\")\n",
        "        print()\n",
        "    # Initialize the result matrix with zeros\n",
        "    C = np.zeros((rows_A, cols_B))\n",
        "\n",
        "    # Perform the manual matrix multiplication\n",
        "    for i in range(rows_A):\n",
        "        for j in range(cols_B):\n",
        "            for k in range(cols_A):\n",
        "                C[i, j] += A[i, k] * B[k, j]\n",
        "\n",
        "    return C\n",
        "\n",
        "# Define matrices d_ndarray and e_ndarray\n",
        "d_ndarray = np.array([[-1, 2, 3], [4, -5, 6]])\n",
        "e_ndarray = np.array([[-9, 8, 7], [6, -5, 4]])\n",
        "\n",
        "# Calculate the matrix product using the custom function\n",
        "C = matrix_product(d_ndarray, e_ndarray)\n",
        "\n",
        "# Print the resulting matrix\n",
        "print(\"Matrix product of d_ndarray and e_ndarray using custom function:\")\n",
        "print(C)"
      ],
      "metadata": {
        "colab": {
          "base_uri": "https://localhost:8080/",
          "height": 332
        },
        "id": "Ps6IW74-uY0a",
        "outputId": "bb70b22d-7b08-4a76-9ab3-2cdc70eefca3"
      },
      "execution_count": 9,
      "outputs": [
        {
          "output_type": "error",
          "ename": "ValueError",
          "evalue": "The number of columns in A must be equal to the number of rows in B",
          "traceback": [
            "\u001b[0;31m---------------------------------------------------------------------------\u001b[0m",
            "\u001b[0;31mValueError\u001b[0m                                Traceback (most recent call last)",
            "\u001b[0;32m<ipython-input-9-c7038e64ff43>\u001b[0m in \u001b[0;36m<cell line: 28>\u001b[0;34m()\u001b[0m\n\u001b[1;32m     26\u001b[0m \u001b[0;34m\u001b[0m\u001b[0m\n\u001b[1;32m     27\u001b[0m \u001b[0;31m# Calculate the matrix product using the custom function\u001b[0m\u001b[0;34m\u001b[0m\u001b[0;34m\u001b[0m\u001b[0m\n\u001b[0;32m---> 28\u001b[0;31m \u001b[0mC\u001b[0m \u001b[0;34m=\u001b[0m \u001b[0mmatrix_product\u001b[0m\u001b[0;34m(\u001b[0m\u001b[0md_ndarray\u001b[0m\u001b[0;34m,\u001b[0m \u001b[0me_ndarray\u001b[0m\u001b[0;34m)\u001b[0m\u001b[0;34m\u001b[0m\u001b[0;34m\u001b[0m\u001b[0m\n\u001b[0m\u001b[1;32m     29\u001b[0m \u001b[0;34m\u001b[0m\u001b[0m\n\u001b[1;32m     30\u001b[0m \u001b[0;31m# Print the resulting matrix\u001b[0m\u001b[0;34m\u001b[0m\u001b[0;34m\u001b[0m\u001b[0m\n",
            "\u001b[0;32m<ipython-input-9-c7038e64ff43>\u001b[0m in \u001b[0;36mmatrix_product\u001b[0;34m(A, B)\u001b[0m\n\u001b[1;32m      8\u001b[0m     \u001b[0;31m# Ensure the matrices can be multiplied (i.e., cols_A == rows_B)\u001b[0m\u001b[0;34m\u001b[0m\u001b[0;34m\u001b[0m\u001b[0m\n\u001b[1;32m      9\u001b[0m     \u001b[0;32mif\u001b[0m \u001b[0mcols_A\u001b[0m \u001b[0;34m!=\u001b[0m \u001b[0mrows_B\u001b[0m\u001b[0;34m:\u001b[0m\u001b[0;34m\u001b[0m\u001b[0;34m\u001b[0m\u001b[0m\n\u001b[0;32m---> 10\u001b[0;31m         \u001b[0;32mraise\u001b[0m \u001b[0mValueError\u001b[0m\u001b[0;34m(\u001b[0m\u001b[0;34m\"The number of columns in A must be equal to the number of rows in B\"\u001b[0m\u001b[0;34m)\u001b[0m\u001b[0;34m\u001b[0m\u001b[0;34m\u001b[0m\u001b[0m\n\u001b[0m\u001b[1;32m     11\u001b[0m         \u001b[0mprint\u001b[0m\u001b[0;34m(\u001b[0m\u001b[0;34m)\u001b[0m\u001b[0;34m\u001b[0m\u001b[0;34m\u001b[0m\u001b[0m\n\u001b[1;32m     12\u001b[0m     \u001b[0;31m# Initialize the result matrix with zeros\u001b[0m\u001b[0;34m\u001b[0m\u001b[0;34m\u001b[0m\u001b[0m\n",
            "\u001b[0;31mValueError\u001b[0m: The number of columns in A must be equal to the number of rows in B"
          ]
        }
      ]
    },
    {
      "cell_type": "code",
      "source": [
        "import numpy as np\n",
        "\n",
        "def matrix_product(A, B):\n",
        "    # Get the dimensions of the input matrices\n",
        "    rows_A, cols_A = A.shape\n",
        "    rows_B, cols_B = B.shape\n",
        "\n",
        "    # Print the dimensions of the matrices\n",
        "    print(f\"Dimensions of matrix A: {rows_A}x{cols_A}\")\n",
        "    print(f\"Dimensions of matrix B: {rows_B}x{cols_B}\")\n",
        "\n",
        "    # Ensure the matrices can be multiplied (i.e., cols_A == rows_B)\n",
        "    if cols_A != rows_B:\n",
        "        print(\"Matrix A columns:\", cols_A)\n",
        "        print(\"Matrix B rows:\", rows_B)\n",
        "        raise ValueError(\"The number of columns in A must be equal to the number of rows in B\")\n",
        "\n",
        "    # Initialize the result matrix with zeros\n",
        "    C = np.zeros((rows_A, cols_B))\n",
        "\n",
        "    # Perform the manual matrix multiplication\n",
        "    for i in range(rows_A):\n",
        "        for j in range(cols_B):\n",
        "            for k in range(cols_A):\n",
        "                C[i, j] += A[i, k] * B[k, j]\n",
        "\n",
        "    return C\n",
        "\n",
        "# Define matrices d_ndarray and e_ndarray\n",
        "d_ndarray = np.array([[-1, 2, 3], [4, -5, 6]])\n",
        "e_ndarray = np.array([[-9, 8, 7], [6, -5, 4]])  # Incorrect dimensions\n",
        "\n",
        "# Calculate the matrix product using the custom function\n",
        "try:\n",
        "    C = matrix_product(d_ndarray, e_ndarray)\n",
        "    # Print the resulting matrix if multiplication is possible\n",
        "    print(\"Matrix product of d_ndarray and e_ndarray using custom function:\")\n",
        "    print(C)\n",
        "except ValueError as e:\n",
        "    print(e)\n",
        "\n",
        "# Define matrices with correct dimensions for demonstration\n",
        "d_ndarray = np.array([[-1, 2, 3], [4, -5, 6]])\n",
        "e_ndarray_correct = np.array([[-9, 8], [7, 6], [-5, 4]])\n",
        "\n",
        "# Calculate the matrix product using the custom function with correct dimensions\n",
        "try:\n",
        "    C_correct = matrix_product(d_ndarray, e_ndarray_correct)\n",
        "    # Print the resulting matrix if multiplication is possible\n",
        "    print(\"Matrix product of d_ndarray and e_ndarray_correct using custom function:\")\n",
        "    print(C_correct)\n",
        "except ValueError as e:\n",
        "    print(e)"
      ],
      "metadata": {
        "colab": {
          "base_uri": "https://localhost:8080/"
        },
        "id": "Hp4o3AuywUoQ",
        "outputId": "7d0e6d8d-b057-44c1-88bb-5a240b05a4e1"
      },
      "execution_count": 8,
      "outputs": [
        {
          "output_type": "stream",
          "name": "stdout",
          "text": [
            "Dimensions of matrix A: 2x3\n",
            "Dimensions of matrix B: 2x3\n",
            "Matrix A columns: 3\n",
            "Matrix B rows: 2\n",
            "The number of columns in A must be equal to the number of rows in B\n",
            "Dimensions of matrix A: 2x3\n",
            "Dimensions of matrix B: 3x2\n",
            "Matrix product of d_ndarray and e_ndarray_correct using custom function:\n",
            "[[   8.   16.]\n",
            " [-101.   26.]]\n"
          ]
        }
      ]
    },
    {
      "cell_type": "markdown",
      "source": [
        "**[Problem 6] Transposition**\n",
        "\n",
        "Transposing one matrix allows you to calculate the matrix product.\n",
        "\n",
        "Transpose it using the np.transpose() or .T attributes and calculate the matrix product."
      ],
      "metadata": {
        "id": "Miwk7GGPxn4h"
      }
    },
    {
      "cell_type": "code",
      "source": [
        "import numpy as np\n",
        "a_ndarray = np.array([[-1, 2, 3], [4, -5, 6], [7, 8, -9]])\n",
        "b_ndarray = np.array([[0, 2, 1], [0, 2, -8], [2, 9, -1]])"
      ],
      "metadata": {
        "id": "lNORNWq9x5ge"
      },
      "execution_count": 10,
      "outputs": []
    },
    {
      "cell_type": "code",
      "source": [
        "# Transpose the matrices using .T attribute\n",
        "a_transposed = a_ndarray.T\n",
        "b_transposed = b_ndarray.T\n",
        "\n",
        "print(\"Transpose of a_ndarray using .T:\")\n",
        "print(a_transposed)\n",
        "print(\"Transpose of b_ndarray using .T:\")\n",
        "print(b_transposed)\n",
        "\n",
        "# Calculate the matrix product of the transposed matrices\n",
        "product_transposed = np.matmul(a_transposed, b_transposed)\n",
        "\n",
        "print(\"Matrix product of transposed matrices using np.matmul():\")\n",
        "print(product_transposed)\n",
        "\n",
        "# Transpose the matrices using np.transpose()\n",
        "a_transposed_np = np.transpose(a_ndarray)\n",
        "b_transposed_np = np.transpose(b_ndarray)\n",
        "\n",
        "print(\"Transpose of a_ndarray using np.transpose():\")\n",
        "print(a_transposed_np)\n",
        "print(\"Transpose of b_ndarray using np.transpose():\")\n",
        "print(b_transposed_np)\n",
        "\n",
        "# Calculate the matrix product of the transposed matrices\n",
        "product_transposed_np = np.matmul(a_transposed_np, b_transposed_np)\n",
        "\n",
        "print(\"Matrix product of transposed matrices using np.matmul() with np.transpose():\")\n",
        "print(product_transposed_np)"
      ],
      "metadata": {
        "colab": {
          "base_uri": "https://localhost:8080/"
        },
        "id": "eiy8obdty0j5",
        "outputId": "c5381992-f4b5-4cad-a9d0-da4a48dece44"
      },
      "execution_count": 11,
      "outputs": [
        {
          "output_type": "stream",
          "name": "stdout",
          "text": [
            "Transpose of a_ndarray using .T:\n",
            "[[-1  4  7]\n",
            " [ 2 -5  8]\n",
            " [ 3  6 -9]]\n",
            "Transpose of b_ndarray using .T:\n",
            "[[ 0  0  2]\n",
            " [ 2  2  9]\n",
            " [ 1 -8 -1]]\n",
            "Matrix product of transposed matrices using np.matmul():\n",
            "[[ 15 -48  27]\n",
            " [ -2 -74 -49]\n",
            " [  3  84  69]]\n",
            "Transpose of a_ndarray using np.transpose():\n",
            "[[-1  4  7]\n",
            " [ 2 -5  8]\n",
            " [ 3  6 -9]]\n",
            "Transpose of b_ndarray using np.transpose():\n",
            "[[ 0  0  2]\n",
            " [ 2  2  9]\n",
            " [ 1 -8 -1]]\n",
            "Matrix product of transposed matrices using np.matmul() with np.transpose():\n",
            "[[ 15 -48  27]\n",
            " [ -2 -74 -49]\n",
            " [  3  84  69]]\n"
          ]
        }
      ]
    }
  ]
}