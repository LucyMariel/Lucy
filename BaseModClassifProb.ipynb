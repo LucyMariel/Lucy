{
  "nbformat": 4,
  "nbformat_minor": 0,
  "metadata": {
    "colab": {
      "provenance": [],
      "authorship_tag": "ABX9TyOO8v2lFK2Si5jH8v+Iukt/",
      "include_colab_link": true
    },
    "kernelspec": {
      "name": "python3",
      "display_name": "Python 3"
    },
    "language_info": {
      "name": "python"
    }
  },
  "cells": [
    {
      "cell_type": "markdown",
      "metadata": {
        "id": "view-in-github",
        "colab_type": "text"
      },
      "source": [
        "<a href=\"https://colab.research.google.com/github/LucyMariel/Lucy/blob/master/BaseModClassifProb.ipynb\" target=\"_parent\"><img src=\"https://colab.research.google.com/assets/colab-badge.svg\" alt=\"Open In Colab\"/></a>"
      ]
    },
    {
      "cell_type": "markdown",
      "source": [
        "\n",
        "Use scratch_train_test_split to split the dataset and solve the classification problem.\n",
        "In supervised learning, you have a dataset consisting of both features and an objective variable (label).\n",
        "What we want to do is to construct a model (estimator) that predicts the labels of the objects from the features.\n",
        "\n",
        "If the target variable is nominal (discrete value), it is treated as a classification problem.\n",
        "\n",
        "example:\n",
        "\n",
        "Predicts the type of iris based on iris measurements.\n",
        "Given a multicolor image of an object through a telescope, determine whether the object is a star, quasar, or galaxy.\n"
      ],
      "metadata": {
        "id": "bOKsdV4W6HGY"
      }
    },
    {
      "cell_type": "markdown",
      "source": [
        "**Problem 2 Creating code to solve classification problems**\n",
        "\n",
        "3. Problem 2 Creating code to solve classification problems\n",
        "Here we will actually solve the classification problem. The general flow is as follows.\n",
        "\n",
        "Acquire iris data and split into training data and test data\n",
        "Generate a model (estimator) to solve the classification problem\n",
        "Predict and use the predicted results and correct values to evaluate"
      ],
      "metadata": {
        "id": "mXeL64Na6gFm"
      }
    },
    {
      "cell_type": "code",
      "execution_count": 12,
      "metadata": {
        "id": "IAoH_cpP5pEX"
      },
      "outputs": [],
      "source": [
        "import numpy as np\n",
        "import pandas as pd\n",
        "from sklearn.datasets import load_iris\n",
        "from sklearn.model_selection import train_test_split as strain_test_split\n",
        "data = load_iris().data\n",
        "target = load_iris().target.reshape(-1,1)\n",
        "iris = np.concatenate([data,target],axis=1)\n",
        "iris = pd.DataFrame(iris)\n",
        "iris_X = iris.loc[iris[4]!=0,0:3].values\n",
        "iris_y = iris.loc[iris[4]!=0,4].values\n",
        "X = iris_X\n",
        "y = iris_y\n",
        "X_train, X_test, y_train, y_test = strain_test_split(X,y,train_size=0.8,random_state=0)"
      ]
    },
    {
      "cell_type": "markdown",
      "source": [
        "Lines 1 to 2: Loading libraries, etc.\n",
        "Third line: Acquisition of explanatory variables\n",
        "\n",
        "Line 4: Objective variable acquisition\n",
        "\n",
        "Lines 5 to 6: Combine the data and create a DataFrame\n",
        "\n",
        "Lines 7 to 8: Creating explanatory variables and objective variables while refining the objective variables for binary classification\n",
        "\n",
        "Lines 9 to 11: Split the data into training data and test data"
      ],
      "metadata": {
        "id": "90D4SKwM7AtO"
      }
    },
    {
      "cell_type": "markdown",
      "source": [
        "**Generate various models (estimators) to solve classification problems**\n",
        "\n",
        "A library for solving classification problems exists in scikit-learn.\n",
        "Here we will use that library to generate logistic regression, SVM, and decision tree models"
      ],
      "metadata": {
        "id": "pDf6Sla19E0v"
      }
    },
    {
      "cell_type": "markdown",
      "source": [
        "logistic regression"
      ],
      "metadata": {
        "id": "lk4Aw-_B9T8W"
      }
    },
    {
      "cell_type": "code",
      "source": [
        "from sklearn.linear_model import SGDClassifier\n",
        "clf = SGDClassifier(loss=\"log\")\n",
        "clf.fit(X_train,y_train)\n",
        "y_pred = clf.predict(X_test)"
      ],
      "metadata": {
        "colab": {
          "base_uri": "https://localhost:8080/"
        },
        "id": "1luz5ifD9WAh",
        "outputId": "48ed6562-6feb-4685-bde9-b0f563429d9c"
      },
      "execution_count": 5,
      "outputs": [
        {
          "output_type": "stream",
          "name": "stderr",
          "text": [
            "/usr/local/lib/python3.10/dist-packages/sklearn/linear_model/_stochastic_gradient.py:163: FutureWarning: The loss 'log' was deprecated in v1.1 and will be removed in version 1.3. Use `loss='log_loss'` which is equivalent.\n",
            "  warnings.warn(\n"
          ]
        }
      ]
    },
    {
      "cell_type": "markdown",
      "source": [
        "Line 1: Load the class\n",
        "\n",
        "Line 2: Instantiation of the class\n",
        "\n",
        "Row 3: Training the model\n",
        "\n",
        "Row 4: Calculate predictions"
      ],
      "metadata": {
        "id": "72lfoPXf9kFN"
      }
    },
    {
      "cell_type": "markdown",
      "source": [
        "SVM"
      ],
      "metadata": {
        "id": "LYezFfhj9rT1"
      }
    },
    {
      "cell_type": "code",
      "source": [
        "from sklearn.svm import SVC\n",
        "clf = SVC(gamma='auto')\n",
        "clf.fit(X_train,y_train)\n",
        "y_pred = clf.predict(X_test)"
      ],
      "metadata": {
        "id": "q1YlFNXu9tXH"
      },
      "execution_count": 6,
      "outputs": []
    },
    {
      "cell_type": "markdown",
      "source": [
        "Line 1: Load the class\n",
        "\n",
        "Line 2: Instantiation of the class\n",
        "\n",
        "Row 3: Training the model\n",
        "\n",
        "Row 4: Calculate predictions"
      ],
      "metadata": {
        "id": "aHluC7L59yX2"
      }
    },
    {
      "cell_type": "markdown",
      "source": [
        "decision tree"
      ],
      "metadata": {
        "id": "iIHm5SUv95ev"
      }
    },
    {
      "cell_type": "code",
      "source": [
        "from sklearn.tree import DecisionTreeClassifier\n",
        "clf = DecisionTreeClassifier(random_state=0)\n",
        "clf.fit(X_train,y_train)\n",
        "y_pred = clf.predict(X_test)"
      ],
      "metadata": {
        "id": "HOon_ib-96jn"
      },
      "execution_count": 7,
      "outputs": []
    },
    {
      "cell_type": "markdown",
      "source": [
        "Line 1: Load the class\n",
        "\n",
        "Line 2: Instantiation of the class\n",
        "\n",
        "Row 3: Training the model\n",
        "\n",
        "Row 4: Calculate predictions"
      ],
      "metadata": {
        "id": "ANDXnPWh-CsW"
      }
    },
    {
      "cell_type": "code",
      "source": [],
      "metadata": {
        "id": "4cu5lvSb_KlV"
      },
      "execution_count": null,
      "outputs": []
    },
    {
      "cell_type": "markdown",
      "source": [
        "**Instantiation of a class in programming refers to the process of creating a specific class model. When a class is defined, it serves as a blueprint for objects, specifying the properties (attributes) and behaviors (methods) that the objects created from the class will have.**"
      ],
      "metadata": {
        "id": "CEBGo3bk-Xrv"
      }
    },
    {
      "cell_type": "markdown",
      "source": [
        "**Evaluation**\n",
        "\n",
        "Four indicators (correctness rate, fit rate, reproducibility rate, and F value) show how close the predicted and correct values are.\n",
        "\n",
        "The code below can be calculated simply by importing each indicator from sklearn and giving the function the predicted and correct values, so we will skip the detailed explanation."
      ],
      "metadata": {
        "id": "wJz4cv4M_iWG"
      }
    },
    {
      "cell_type": "code",
      "source": [
        "from sklearn.metrics import accuracy_score\n",
        "from sklearn.metrics import precision_score\n",
        "from sklearn.metrics import recall_score\n",
        "from sklearn.metrics import f1_score\n",
        "\n",
        "accuracy = accuracy_score(y_test, y_pred)\n",
        "precision = precision_score(y_test, y_pred)\n",
        "recall = recall_score(y_test, y_pred)\n",
        "f1 = f1_score(y_test, y_pred)"
      ],
      "metadata": {
        "id": "ViN96z4-_qkB"
      },
      "execution_count": 9,
      "outputs": []
    }
  ]
}