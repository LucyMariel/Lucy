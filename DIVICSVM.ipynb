{
  "nbformat": 4,
  "nbformat_minor": 0,
  "metadata": {
    "colab": {
      "provenance": [],
      "authorship_tag": "ABX9TyP1VXWjuAdFrnBqlRa4U2RY",
      "include_colab_link": true
    },
    "kernelspec": {
      "name": "python3",
      "display_name": "Python 3"
    },
    "language_info": {
      "name": "python"
    }
  },
  "cells": [
    {
      "cell_type": "markdown",
      "metadata": {
        "id": "view-in-github",
        "colab_type": "text"
      },
      "source": [
        "<a href=\"https://colab.research.google.com/github/LucyMariel/Lucy/blob/master/DIVICSVM.ipynb\" target=\"_parent\"><img src=\"https://colab.research.google.com/assets/colab-badge.svg\" alt=\"Open In Colab\"/></a>"
      ]
    },
    {
      "cell_type": "code",
      "execution_count": null,
      "metadata": {
        "id": "gk6BqzdYLAUz"
      },
      "outputs": [],
      "source": []
    },
    {
      "cell_type": "markdown",
      "source": [
        "**SVM**\n",
        "\n",
        "class of support vector machine (SVM, support vector machine) for classification by scratch. We will implement the algorithm using only the minimum library such as NumPy.\n",
        "\n",
        "There are soft margin SVMs that allow classification errors during learning and hard margin SVMs that do not, but here we will deal with hard margin SVMs that are simple to implement.\n",
        "\n",
        "The template is prepared below. Add some code to this ScratchSVMClassifier class."
      ],
      "metadata": {
        "id": "CwOpsFeqLD3P"
      }
    },
    {
      "cell_type": "code",
      "source": [
        "class ScratchSVMClassifier():\n",
        "    \"\"\"\n",
        "    Scratch implementation of SVM classifier\n",
        "\n",
        "    Parameters\n",
        "    ----------\n",
        "    num_iter : int\n",
        "      Number of iterations\n",
        "    lr : float\n",
        "      Learning rate\n",
        "    kernel : str\n",
        "      Kernel type. Linear kernel (linear) or polynomial kernel (polly)\n",
        "    threshold : float\n",
        "      Threshold for choosing a support vector\n",
        "    verbose : bool\n",
        "      True to output the learning process\n",
        "\n",
        "    Attributes\n",
        "    ----------\n",
        "    self.n_support_vectors : int\n",
        "      Number of support vectors\n",
        "    self.index_support_vectors : The following form of ndarray, shape (n_support_vectors,)\n",
        "      Support vector index\n",
        "    self.X_sv :  The following forms of ndarray, shape (n_support_vectors, n_features)\n",
        "      Support vector features\n",
        "    self.lam_sv :  The following forms of ndarray, shape (n_support_vectors, 1)\n",
        "      Support vector undetermined multiplier\n",
        "    self.y_sv :  The following forms of ndarray, shape (n_support_vectors, 1)\n",
        "      Support vector label\n",
        "\n",
        "    \"\"\"\n",
        "\n",
        "    def __init__(self, num_iter, lr, kernel='linear', threshold=1e-5, verbose=False):\n",
        "        # Record hyperparameters as attributes\n",
        "        self.iter = num_iter\n",
        "        self.lr = lr\n",
        "        self.kernel = kernel\n",
        "        self.threshold = threshold\n",
        "        self.verbose = verbose\n",
        "\n",
        "    def fit(self, X, y, X_val=None, y_val=None):\n",
        "        \"\"\"\n",
        "        Learn the SVM classifier. If verification data is input, the accuracy for it is also calculated for each iteration.\n",
        "\n",
        "        Parameters\n",
        "        ----------\n",
        "        X : The following forms of ndarray, shape (n_samples, n_features)\n",
        "            Features of training data\n",
        "        y : The following form of ndarray, shape (n_samples,)\n",
        "            Correct answer value of training data\n",
        "        X_val : The following forms of ndarray, shape (n_samples, n_features)\n",
        "            Features of verification data\n",
        "        y_val : The following form of ndarray, shape (n_samples,)\n",
        "            Correct value of verification data\n",
        "        \"\"\"\n",
        "\n",
        "        if self.verbose:\n",
        "            Output the learning process when #verbose is set to True\n",
        "            print()\n",
        "        pass\n",
        "\n",
        "    def predict(self, X):\n",
        "        \"\"\"\n",
        "        Estimate the label using the SVM classifier.\n",
        "\n",
        "        Parameters\n",
        "        ----------\n",
        "        X : The following forms of ndarray, shape (n_samples, n_features)\n",
        "            sample\n",
        "\n",
        "        Returns\n",
        "        -------\n",
        "            The following form of ndarray, shape (n_samples, 1)\n",
        "            Estimated result by SVM classifier\n",
        "        \"\"\"\n",
        "\n",
        "        pass\n",
        "        return\n"
      ],
      "metadata": {
        "id": "eYFfYX5ZLUmu"
      },
      "execution_count": null,
      "outputs": []
    },
    {
      "cell_type": "markdown",
      "source": [
        "**【problem 1】Lagrange's steepest descent by the undetermined multiplier method**\n",
        "\n",
        "SVM learning uses Lagrange's undetermined multiplier method. Prepare and update Lagrange multiplier for the number of samples\n",
        "λ\n",
        "with the following formula. Implement the method that does this calculation in the ScratchSVMClassifier class."
      ],
      "metadata": {
        "id": "L4Yau6qTLgMr"
      }
    },
    {
      "cell_type": "code",
      "source": [
        "import numpy as np\n",
        "from cvxopt import matrix, solvers\n",
        "\n",
        "# Define the data points and their labels\n",
        "x = np.array([500, 300, 200, 700, 500, 300, 200, 300, 400, 700])\n",
        "y = np.array([25, 20, 15, 40, 25, 20, 15, 20, 22, 40])\n",
        "\n",
        "# Reshape for compatibility with the SVM implementation\n",
        "X = x.reshape(-1, 1).astype(float)\n",
        "Y = np.sign(y.reshape(-1, 1) - np.mean(y)).astype(float)  # Convert y to binary (-1 or 1)\n",
        "\n",
        "# Kernel function (linear kernel for simplicity)\n",
        "def linear_kernel(x1, x2):\n",
        "    return np.dot(x1, x2)\n",
        "\n",
        "# Gram matrix\n",
        "m = X.shape[0]\n",
        "K = np.zeros((m, m))\n",
        "for i in range(m):\n",
        "    for j in range(m):\n",
        "        K[i,j] = linear_kernel(X[i], X[j])\n",
        "\n",
        "# Setup parameters for quadratic programming\n",
        "P = matrix(np.outer(Y, Y) * K)\n",
        "q = matrix(-np.ones((m, 1)))\n",
        "G = matrix(-np.eye(m))\n",
        "h = matrix(np.zeros(m))\n",
        "A = matrix(Y.T, (1, m))\n",
        "b = matrix(0.0)\n",
        "\n",
        "# Solve QP problem\n",
        "solution = solvers.qp(P, q, G, h, A, b)\n",
        "alphas = np.ravel(solution['x'])\n",
        "\n",
        "# Support vectors have non zero lagrange multipliers\n",
        "sv = alphas > 1e-5\n",
        "ind = np.arange(len(alphas))[sv]\n",
        "alphas = alphas[sv]\n",
        "sv_X = X[sv]\n",
        "sv_Y = Y[sv]\n",
        "\n",
        "# Calculate weights and bias\n",
        "w = np.zeros(X.shape[1])\n",
        "for i in range(len(alphas)):\n",
        "    w += alphas[i] * sv_Y[i] * sv_X[i]\n",
        "b = sv_Y[0]\n",
        "for i in range(len(alphas)):\n",
        "    b -= alphas[i] * sv_Y[i] * linear_kernel(sv_X[i], sv_X[0])\n",
        "\n",
        "print(\"Weights:\", w)\n",
        "print(\"Bias:\", b)\n",
        "\n",
        "# Function to make predictions\n",
        "def predict(X):\n",
        "    return np.sign(np.dot(X, w) + b)\n",
        "\n",
        "# Test prediction\n",
        "print(\"Prediction for input data:\", predict(X))"
      ],
      "metadata": {
        "colab": {
          "base_uri": "https://localhost:8080/"
        },
        "id": "gCu9LCENQRRI",
        "outputId": "78704bed-9769-4221-bbda-d46a490aa473"
      },
      "execution_count": 1,
      "outputs": [
        {
          "output_type": "stream",
          "name": "stdout",
          "text": [
            "     pcost       dcost       gap    pres   dres\n",
            " 0: -2.1230e+00 -3.7307e+00  2e+01  4e+00  2e+00\n",
            " 1: -4.2247e+00 -2.0594e+00  4e+00  1e+00  5e-01\n",
            " 2: -6.1045e-02 -4.3590e-03  1e+00  1e-01  7e-02\n",
            " 3: -3.0747e-03 -2.9614e-04  1e-02  2e-03  9e-04\n",
            " 4: -9.4364e-05 -2.8312e-04  2e-04  2e-06  9e-07\n",
            " 5: -1.9011e-04 -2.0089e-04  1e-05  1e-07  5e-08\n",
            " 6: -1.9990e-04 -2.0001e-04  1e-07  1e-09  5e-10\n",
            " 7: -2.0000e-04 -2.0000e-04  1e-09  1e-11  5e-12\n",
            "Optimal solution found.\n",
            "Weights: [0.02]\n",
            "Bias: [-9.00000076]\n",
            "Prediction for input data: [ 1. -1. -1.  1.  1. -1. -1. -1. -1.  1.]\n"
          ]
        }
      ]
    },
    {
      "cell_type": "markdown",
      "source": [
        "Considering these arrays: x = [500, 300, 200, 700, 500, 300, 200, 300, 400, 700], Traffic flow and Y = [25, 20, 15, 40, 25, 20, 15, 20, 22, 40] Trip time\n",
        "SVM Interpretation, Binary Classification:\n",
        "\n",
        "In this example, Y array becomes to binary labels (1 or -1) based on whether the trip time is above or below the average trip time. This transformation is for the sake of the binary classification requirement of the SVM.\n",
        "\n",
        "Support Vectors:\n",
        "\n",
        "The support vectors are the data points (traffic flow and trip time pairs) that lie closest to the decision boundary. These points are critical in defining the boundary between high and low trip times.\n",
        "\n",
        "Weights and Bias:\n",
        "\n",
        "Weights (w): The weights represent the importance of the feature (traffic flow) in predicting the trip time category. A positive weight would indicate that as traffic flow increases, the likelihood of higher trip time (congestion) increases.\n",
        "Bias (b): The bias term shifts the decision boundary. It helps to adjust the boundary without altering the weights.\n",
        "\n",
        "Decision Boundary: The decision boundary is defined by the equation\n",
        "𝑤 ⋅𝑋+𝑏=0\n",
        "w⋅X+b=0. This boundary separates the regions of high trip times from low trip times based on traffic flow.\n",
        "\n",
        "Prediction: For a new traffic flow value, the model predicts whether the trip time is likely to be high or low by checking on which side of the decision boundary the traffic flow falls."
      ],
      "metadata": {
        "id": "yfhq8fmFRoGQ"
      }
    },
    {
      "cell_type": "markdown",
      "source": [
        "Visualizing the boundaries"
      ],
      "metadata": {
        "id": "bodhNdnWTdku"
      }
    },
    {
      "cell_type": "code",
      "source": [
        "import numpy as np\n",
        "import matplotlib.pyplot as plt\n",
        "from cvxopt import matrix, solvers\n",
        "\n",
        "# Define the data points and their labels\n",
        "x = np.array([50, 30, 20, 70, 50, 30, 20, 30, 40, 70, 50, 30, 20, 70, 50, 30, 20, 30, 40, 70])\n",
        "y = np.array([25, 20, 15, 40, 25, 20, 15, 20, 22, 40, 25, 20, 15, 40, 25, 20, 15, 20, 22, 40])\n",
        "\n",
        "# Reshape for compatibility with the SVM implementation\n",
        "X = x.reshape(-1, 1).astype(float)\n",
        "Y = np.sign(y.reshape(-1, 1) - np.mean(y)).astype(float)  # Convert y to binary (-1 or 1)\n",
        "\n",
        "# Kernel function (linear kernel for simplicity)\n",
        "def linear_kernel(x1, x2):\n",
        "    return np.dot(x1, x2)\n",
        "\n",
        "# Gram matrix\n",
        "m = X.shape[0]\n",
        "K = np.zeros((m, m))\n",
        "for i in range(m):\n",
        "    for j in range(m):\n",
        "        K[i,j] = linear_kernel(X[i], X[j])\n",
        "\n",
        "# Setup parameters for quadratic programming\n",
        "P = matrix(np.outer(Y, Y) * K)\n",
        "q = matrix(-np.ones((m, 1)))\n",
        "G = matrix(-np.eye(m))\n",
        "h = matrix(np.zeros(m))\n",
        "A = matrix(Y.T, (1, m))\n",
        "b = matrix(0.0)\n",
        "\n",
        "# Solve QP problem\n",
        "solution = solvers.qp(P, q, G, h, A, b)\n",
        "alphas = np.ravel(solution['x'])\n",
        "\n",
        "# Support vectors have non zero lagrange multipliers\n",
        "sv = alphas > 1e-5\n",
        "ind = np.arange(len(alphas))[sv]\n",
        "alphas = alphas[sv]\n",
        "sv_X = X[sv]\n",
        "sv_Y = Y[sv]\n",
        "\n",
        "# Calculate weights and bias\n",
        "w = np.zeros(X.shape[1])\n",
        "for i in range(len(alphas)):\n",
        "    w += alphas[i] * sv_Y[i] * sv_X[i]\n",
        "b = sv_Y[0]\n",
        "for i in range(len(alphas)):\n",
        "    b -= alphas[i] * sv_Y[i] * linear_kernel(sv_X[i], sv_X[0])\n",
        "\n",
        "print(\"Weights:\", w)\n",
        "print(\"Bias:\", b)\n",
        "\n",
        "# Function to make predictions\n",
        "def predict(X):\n",
        "    return np.sign(np.dot(X, w) + b)\n",
        "\n",
        "# Plot the data points\n",
        "plt.scatter(X[Y.flatten() == -1], y[Y.flatten() == -1], color='red', label='Low Trip Time')\n",
        "plt.scatter(X[Y.flatten() == 1], y[Y.flatten() == 1], color='blue', label='High Trip Time')\n",
        "\n",
        "# Plot the support vectors\n",
        "plt.scatter(sv_X, sv_Y * np.mean(y), color='green', s=100, edgecolors='black', label='Support Vectors')\n",
        "\n",
        "# Plot the decision boundary\n",
        "x_values = np.linspace(min(X), max(X), 100)\n",
        "y_values = -(w[0] * x_values + b)\n",
        "plt.plot(x_values, y_values, label='Decision Boundary')\n",
        "\n",
        "plt.xlabel('Traffic Flow per Hour')\n",
        "plt.ylabel('Trip Time')\n",
        "plt.legend()\n",
        "plt.title('SVM Decision Boundary')\n",
        "plt.show()\n"
      ],
      "metadata": {
        "colab": {
          "base_uri": "https://localhost:8080/",
          "height": 680
        },
        "id": "nFBc0CjCT5Qn",
        "outputId": "6e4bfd00-372b-4a5f-86bd-c60b84a01f92"
      },
      "execution_count": 5,
      "outputs": [
        {
          "output_type": "stream",
          "name": "stdout",
          "text": [
            "     pcost       dcost       gap    pres   dres\n",
            " 0: -4.2472e+00 -7.4671e+00  4e+01  6e+00  2e+00\n",
            " 1: -8.4502e+00 -4.1393e+00  9e+00  2e+00  5e-01\n",
            " 2: -1.1286e-01 -3.6512e-02  2e+00  2e-01  7e-02\n",
            " 3: -9.5829e-03 -2.8430e-02  3e-02  1e-03  4e-04\n",
            " 4: -1.8366e-02 -2.0089e-02  2e-03  7e-05  2e-05\n",
            " 5: -1.9984e-02 -2.0001e-02  2e-05  7e-07  2e-07\n",
            " 6: -2.0000e-02 -2.0000e-02  2e-07  7e-09  2e-09\n",
            " 7: -2.0000e-02 -2.0000e-02  2e-09  7e-11  2e-11\n",
            "Optimal solution found.\n",
            "Weights: [0.2]\n",
            "Bias: [-9.00000005]\n"
          ]
        },
        {
          "output_type": "display_data",
          "data": {
            "text/plain": [
              "<Figure size 640x480 with 1 Axes>"
            ],
            "image/png": "[encoded data removed]"
          },
          "metadata": {}
        }
      ]
    },
    {
      "cell_type": "markdown",
      "source": [
        "The weight indicates the importance of the traffic flow (X) in determining the trip time category (Y). Since we have only one feature (traffic flow), the weight value is: w=0.2 The bias term adjusts the decision boundary:b=−9.00000005\n",
        "The decision boundary in the context of SVM is defined by the equation: 0.2⋅X−9.00000005=0 then X=45.\n",
        "\n",
        "Decision Boundary: The traffic flow value that separates low and high trip times is approximately 45 vehicles per hour. This means:\n",
        "\n",
        "-If the traffic flow is less than 45 vehicles per hour, the SVM predicts a lower trip time.\n",
        "-If the traffic flow is greater than or equal to 45 vehicles per hour, the SVM predicts a higher trip time."
      ],
      "metadata": {
        "id": "fiAgAdabVn3o"
      }
    }
  ]
}