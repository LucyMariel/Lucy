{
  "nbformat": 4,
  "nbformat_minor": 0,
  "metadata": {
    "colab": {
      "provenance": [],
      "authorship_tag": "ABX9TyMWCq7SQZa/Ue59KwHxNJdm",
      "include_colab_link": true
    },
    "kernelspec": {
      "name": "python3",
      "display_name": "Python 3"
    },
    "language_info": {
      "name": "python"
    }
  },
  "cells": [
    {
      "cell_type": "markdown",
      "metadata": {
        "id": "view-in-github",
        "colab_type": "text"
      },
      "source": [
        "<a href=\"https://colab.research.google.com/github/LucyMariel/Lucy/blob/master/Chestnut_bun.ipynb\" target=\"_parent\"><img src=\"https://colab.research.google.com/assets/colab-badge.svg\" alt=\"Open In Colab\"/></a>"
      ]
    },
    {
      "cell_type": "code",
      "execution_count": null,
      "metadata": {
        "id": "JDbTHKoMl_8t"
      },
      "outputs": [],
      "source": []
    },
    {
      "cell_type": "markdown",
      "source": [
        "**The chestnut bun problem**\n",
        "\n",
        "If you sprinkle a single chestnut bun with vine, how long will it take to cover the solar system with chestnut buns? Create a program to calculate this."
      ],
      "metadata": {
        "id": "FW9sG3kVmA6E"
      }
    },
    {
      "cell_type": "code",
      "source": [
        "import math\n",
        "\n",
        "# Constants\n",
        "volume_chestnut_bun = 0.0001  # Volume of a single chestnut bun in cubic meters\n",
        "radius_neptune_orbit = 4.5e12  # Radius of Neptune's orbit in meters\n",
        "\n",
        "# Volume of the solar system within Neptune's orbit\n",
        "volume_solar_system = (4/3) * math.pi * (radius_neptune_orbit ** 3)\n",
        "\n",
        "# Function to calculate the number of doublings required\n",
        "def calculate_days_to_cover_solar_system(initial_volume, target_volume):\n",
        "    days = 0\n",
        "    current_volume = initial_volume\n",
        "\n",
        "    while current_volume < target_volume:\n",
        "        current_volume *= 2\n",
        "        days += 1\n",
        "\n",
        "    return days\n",
        "\n",
        "# Calculate the number of days\n",
        "initial_volume = volume_chestnut_bun\n",
        "target_volume = volume_solar_system\n",
        "days_needed = calculate_days_to_cover_solar_system(initial_volume, target_volume)\n",
        "\n",
        "print(f\"Number of days needed to cover the solar system with chestnut buns: {days_needed}\")"
      ],
      "metadata": {
        "colab": {
          "base_uri": "https://localhost:8080/"
        },
        "id": "V-SRTDrMmNIj",
        "outputId": "36494d51-5d38-4f9f-f345-380d2d92d49f"
      },
      "execution_count": 1,
      "outputs": [
        {
          "output_type": "stream",
          "name": "stdout",
          "text": [
            "Number of days needed to cover the solar system with chestnut buns: 142\n"
          ]
        }
      ]
    },
    {
      "cell_type": "markdown",
      "source": [
        "Make assumptions about the volume of the chestnut buns and the solar system based on your research and calculations. You may simplify the problem by not considering the gap between the chestnut buns and gravity."
      ],
      "metadata": {
        "id": "-g6WbgyMoaOT"
      }
    },
    {
      "cell_type": "code",
      "source": [
        "import math\n",
        "\n",
        "# Constants\n",
        "volume_chestnut_bun = 0.0001  # Volume of a single chestnut bun in cubic meters\n",
        "radius_neptune_orbit = 4.5e12  # Radius of Neptune's orbit in meters\n",
        "\n",
        "# Volume of the solar system within Neptune's orbit\n",
        "volume_solar_system = (4/3) * math.pi * (radius_neptune_orbit ** 3)\n",
        "\n",
        "# Function to calculate the number of doublings required\n",
        "def calculate_days_to_cover_solar_system(initial_volume, target_volume):\n",
        "    days = 0\n",
        "    current_volume = initial_volume\n",
        "\n",
        "    while current_volume < target_volume:\n",
        "        current_volume *= 2\n",
        "        days += 1\n",
        "\n",
        "    return days\n",
        "\n",
        "# Calculate the number of days\n",
        "initial_volume = volume_chestnut_bun\n",
        "target_volume = volume_solar_system\n",
        "days_needed = calculate_days_to_cover_solar_system(initial_volume, target_volume)\n",
        "\n",
        "print(f\"Number of days needed to cover the solar system with chestnut buns: {days_needed}\")"
      ],
      "metadata": {
        "colab": {
          "base_uri": "https://localhost:8080/"
        },
        "id": "F4_h_AJio-Vb",
        "outputId": "78bfed7b-3c29-4417-9436-1ab8f4d2c274"
      },
      "execution_count": 2,
      "outputs": [
        {
          "output_type": "stream",
          "name": "stdout",
          "text": [
            "Number of days needed to cover the solar system with chestnut buns: 142\n"
          ]
        }
      ]
    },
    {
      "cell_type": "code",
      "source": [
        "import math\n",
        "\n",
        "# Constants\n",
        "volume_chestnut_bun = 0.0001  # Volume of a single chestnut bun in cubic meters\n",
        "radius_neptune_orbit = 4.5e12  # Radius of Neptune's orbit in meters\n",
        "\n",
        "# Volume of the solar system within Neptune's orbit\n",
        "volume_solar_system = (4/3) * math.pi * (radius_neptune_orbit ** 3)\n",
        "\n",
        "# Function to calculate the number of doublings required\n",
        "def calculate_days_to_cover_solar_system(initial_volume, target_volume):\n",
        "    days = 0\n",
        "    current_volume = initial_volume\n",
        "\n",
        "    while current_volume < target_volume:\n",
        "        current_volume *= 2\n",
        "        days += 1\n",
        "\n",
        "    return days\n",
        "\n",
        "# Calculate the number of days\n",
        "initial_volume = volume_chestnut_bun\n",
        "target_volume = volume_solar_system\n",
        "days_needed = calculate_days_to_cover_solar_system(initial_volume, target_volume)\n",
        "\n",
        "print(f\"Number of days needed to cover the solar system with chestnut buns: {days_needed}\")"
      ],
      "metadata": {
        "colab": {
          "base_uri": "https://localhost:8080/"
        },
        "id": "OWTF-QsBqB2L",
        "outputId": "878422ed-784c-4385-832f-c7c67bc4a1de"
      },
      "execution_count": 4,
      "outputs": [
        {
          "output_type": "stream",
          "name": "stdout",
          "text": [
            "Number of days needed to cover the solar system with chestnut buns: 142\n"
          ]
        }
      ]
    },
    {
      "cell_type": "markdown",
      "source": [
        "**Transportation Problem**\n",
        "\n",
        "if i want to create a program for knowing the necessary time (minutes) to fill up a bus with passengers (only stand up), if the bus has 12 meters and in every meter 6 person fit. Taking 6 seconds to get on the bus per person."
      ],
      "metadata": {
        "id": "Vb51uxVNsg6M"
      }
    },
    {
      "cell_type": "code",
      "source": [
        "import matplotlib.pyplot as plt\n",
        "\n",
        "def calculate_time_to_fill_bus(bus_length, people_per_meter, time_per_person):\n",
        "    \"\"\"\n",
        "    Calculate the necessary time in minutes to fill up a bus with passengers.\n",
        "\n",
        "    Parameters:\n",
        "    bus_length (int): Length of the bus in meters.\n",
        "    people_per_meter (int): Number of people that fit in each meter of the bus.\n",
        "    time_per_person (int): Time taken for each person to get on the bus in seconds.\n",
        "\n",
        "    Returns:\n",
        "    float: The total time required to fill the bus in minutes.\n",
        "    \"\"\"\n",
        "    # Calculate the total number of passengers the bus can hold\n",
        "    total_passengers = bus_length * people_per_meter\n",
        "\n",
        "    # Calculate the total time in seconds\n",
        "    total_time_seconds = total_passengers * time_per_person\n",
        "\n",
        "    # Convert total time from seconds to minutes\n",
        "    total_time_minutes = total_time_seconds / 60\n",
        "\n",
        "    return total_time_minutes\n",
        "\n",
        "# Constants\n",
        "bus_length = 12  # Length of the bus in meters\n",
        "people_per_meter = 6  # Number of people that fit in each meter of the bus\n",
        "time_per_person = 6  # Time taken for each person to get on the bus in seconds\n",
        "\n",
        "# Range of total passengers to plot\n",
        "total_passengers_range = range(1, bus_length * people_per_meter + 1)\n",
        "\n",
        "# Calculate the time required for each total number of passengers\n",
        "time_to_fill_bus = [calculate_time_to_fill_bus(bus_length, people_per_meter, time_per_person) for _ in total_passengers_range]\n",
        "\n",
        "# Plotting\n",
        "plt.figure(figsize=(10, 6))\n",
        "plt.plot(total_passengers_range, time_to_fill_bus, marker='o', linestyle='-', color='b', label='Time to Fill Bus')\n",
        "plt.xlabel('Number of Passengers')\n",
        "plt.ylabel('Time (minutes)')\n",
        "plt.title('Time Required to Fill Bus with Passengers')\n",
        "plt.grid(True)\n",
        "plt.legend()\n",
        "plt.show()"
      ],
      "metadata": {
        "colab": {
          "base_uri": "https://localhost:8080/",
          "height": 564
        },
        "id": "DRJOndtrsmKT",
        "outputId": "0a93be8d-fa7a-4a65-bbb7-3e09de7b12dd"
      },
      "execution_count": 17,
      "outputs": [
        {
          "output_type": "display_data",
          "data": {
            "text/plain": [
              "<Figure size 1000x600 with 1 Axes>"
            ],
            "image/png": "[encoded data removed]"
          },
          "metadata": {}
        }
      ]
    }
  ]
}