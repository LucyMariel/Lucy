{
  "nbformat": 4,
  "nbformat_minor": 0,
  "metadata": {
    "colab": {
      "provenance": [],
      "authorship_tag": "ABX9TyOLEu40uAvGFQWuGSl5cD03",
      "include_colab_link": true
    },
    "kernelspec": {
      "name": "python3",
      "display_name": "Python 3"
    },
    "language_info": {
      "name": "python"
    }
  },
  "cells": [
    {
      "cell_type": "markdown",
      "metadata": {
        "id": "view-in-github",
        "colab_type": "text"
      },
      "source": [
        "<a href=\"https://colab.research.google.com/github/LucyMariel/Lucy/blob/master/DIVIC_MrFuji.ipynb\" target=\"_parent\"><img src=\"https://colab.research.google.com/assets/colab-badge.svg\" alt=\"Open In Colab\"/></a>"
      ]
    },
    {
      "cell_type": "code",
      "execution_count": null,
      "metadata": {
        "id": "Xgtia_SnVtqi"
      },
      "outputs": [],
      "source": []
    },
    {
      "cell_type": "markdown",
      "source": [
        "**How many times to fold paper to exceed the height of Mt.Fuji?**\n",
        "\n",
        "Create a program that calculates the minimum number of times to fold the paper required for the thickness to exceed the \"height of Mt. Fuji (3776m)\"."
      ],
      "metadata": {
        "id": "s4-Zu_VJWyC3"
      }
    },
    {
      "cell_type": "code",
      "source": [
        "# Initial thickness of the paper in meters\n",
        "THICKNESS = 0.00008\n",
        "TARGET_THICKNESS = 3776\n",
        "\n",
        "# Initialize folded thickness to the original thickness\n",
        "folded_thickness = THICKNESS\n",
        "\n",
        "# Initialize the number of folds\n",
        "num_folds = 0\n",
        "\n",
        "# Loop until the folded thickness exceeds the target thickness\n",
        "while folded_thickness <= TARGET_THICKNESS:\n",
        "    folded_thickness *= 2\n",
        "    num_folds += 1\n",
        "\n",
        "print(\"Number of folds required to exceed 3776 meters: {}\".format(num_folds))\n",
        "print(\"Final thickness: {} meters\".format(folded_thickness))"
      ],
      "metadata": {
        "colab": {
          "base_uri": "https://localhost:8080/"
        },
        "id": "M69LXrLhXEIU",
        "outputId": "051a72c8-eef0-4f81-b75b-dcbaa2483dc6"
      },
      "execution_count": 1,
      "outputs": [
        {
          "output_type": "stream",
          "name": "stdout",
          "text": [
            "Number of folds required to exceed 3776 meters: 26\n",
            "Final thickness: 5368.70912 meters\n"
          ]
        }
      ]
    },
    {
      "cell_type": "markdown",
      "source": [
        "**[Problem 2] Function corresponding to arbitrary thickness**\n",
        "\n",
        "Implement a function that, given a height input, would output the minimum number of paper folds required to exceed it. Let's make it possible to set the thickness $t_{0}$ before folding as an argument.\n",
        "\n",
        "Using this function, calculate how many times you would need to fold a piece of paper to reach the nearest non-sun star.\n",
        "The nearest non-sun star is Proxima Centauri, which is about $4.0175 \\times 10^{16}$m away from Earth."
      ],
      "metadata": {
        "id": "mt047ATIaKwW"
      }
    },
    {
      "cell_type": "code",
      "source": [
        "def calculate_folds_to_exceed_height(initial_thickness, target_height):\n",
        "    \"\"\"\n",
        "    Calculate the minimum number of folds required to exceed a given height.\n",
        "\n",
        "    Parameters:\n",
        "    initial_thickness (float): Initial thickness of the paper in meters.\n",
        "    target_height (float): Target height to exceed in meters.\n",
        "\n",
        "    Returns:\n",
        "    int: Number of folds required to exceed the target height.\n",
        "    \"\"\"\n",
        "    folded_thickness = initial_thickness\n",
        "    num_folds = 0\n",
        "\n",
        "    while folded_thickness <= target_height:\n",
        "        folded_thickness *= 2\n",
        "        num_folds += 1\n",
        "\n",
        "    return num_folds\n",
        "\n",
        "# Constants\n",
        "initial_thickness = 0.00008  # initial thickness of the paper in meters\n",
        "distance_to_proxima_centauri = 4.0175e16  # distance to Proxima Centauri in meters\n",
        "\n",
        "# Calculate the number of folds required\n",
        "folds_needed = calculate_folds_to_exceed_height(initial_thickness, distance_to_proxima_centauri)\n",
        "\n",
        "print(\"Number of folds needed to reach Proxima Centauri: {}\".format(folds_needed))"
      ],
      "metadata": {
        "colab": {
          "base_uri": "https://localhost:8080/"
        },
        "id": "JXhNpAuoa54m",
        "outputId": "46068bf4-d576-4bde-c2b7-c37853d21d67"
      },
      "execution_count": 2,
      "outputs": [
        {
          "output_type": "stream",
          "name": "stdout",
          "text": [
            "Number of folds needed to reach Proxima Centauri: 69\n"
          ]
        }
      ]
    },
    {
      "cell_type": "markdown",
      "source": [
        "**[Problem 3] Required paper length**\n",
        "\n",
        "In fact, the paper around us cannot be folded 10 times, let alone 43 times. However, the larger the paper, the more it can be folded. There is a formula for finding the number of times a long piece of paper, such as toilet paper, can be folded when considering folding it in one direction.\n",
        "\n",
        "The length of paper L required to fold a $t_{0}$ thick paper n times can be obtained by the following formula.\n",
        "\n",
        "l\n",
        "​ ​\n",
        "=\n",
        "​ ​\n",
        "pi\n",
        "​ ​\n",
        "t\n",
        "​ ​\n",
        "0\n",
        "​ ​\n",
        "6\n",
        "​ ​\n",
        "(\n",
        "2\n",
        "​ ​\n",
        "n\n",
        "​ ​\n",
        "+\n",
        "​ ​\n",
        "4\n",
        ")\n",
        "​ ​\n",
        "(\n",
        "2\n",
        "​ ​\n",
        "n\n",
        "-\n",
        "1\n",
        ")\n",
        "Use this formula to implement a function that finds the length of paper needed to actually fold the paper and reach any thickness.\n",
        "\n",
        "Then use this to find out the length of paper needed to reach the Moon, Mt. Fuji, and the stars closest to the Sun."
      ],
      "metadata": {
        "id": "9220lcQdcFLQ"
      }
    },
    {
      "cell_type": "code",
      "source": [
        "import math\n",
        "\n",
        "def calculate_paper_length(t0, n):\n",
        "    \"\"\"\n",
        "    Calculate the length of paper required to fold it n times.\n",
        "\n",
        "    Parameters:\n",
        "    t0 (float): Initial thickness of the paper in meters.\n",
        "    n (int): Number of folds.\n",
        "\n",
        "    Returns:\n",
        "    float: Length of the paper required in meters.\n",
        "    \"\"\"\n",
        "    L = (math.pi * t0 / 6) * (2**n + 4) * (2**n - 1)\n",
        "    return L\n",
        "\n",
        "def calculate_folds_to_exceed_height(t0, target_height):\n",
        "    \"\"\"\n",
        "    Calculate the minimum number of folds required to exceed a given height.\n",
        "\n",
        "    Parameters:\n",
        "    t0 (float): Initial thickness of the paper in meters.\n",
        "    target_height (float): Target height to exceed in meters.\n",
        "\n",
        "    Returns:\n",
        "    int: Number of folds required to exceed the target height.\n",
        "    \"\"\"\n",
        "    folded_thickness = t0\n",
        "    num_folds = 0\n",
        "\n",
        "    while folded_thickness <= target_height:\n",
        "        folded_thickness *= 2\n",
        "        num_folds += 1\n",
        "\n",
        "    return num_folds\n",
        "\n",
        "# Constants\n",
        "initial_thickness = 0.00008  # initial thickness of the paper in meters\n",
        "height_moon = 384400000  # distance to the Moon in meters\n",
        "height_mt_fuji = 3776  # height of Mt. Fuji in meters\n",
        "distance_to_proxima_centauri = 4.0175e16  # distance to Proxima Centauri in meters\n",
        "\n",
        "# Calculate the number of folds required to exceed the target heights\n",
        "folds_to_moon = calculate_folds_to_exceed_height(initial_thickness, height_moon)\n",
        "folds_to_mt_fuji = calculate_folds_to_exceed_height(initial_thickness, height_mt_fuji)\n",
        "folds_to_proxima_centauri = calculate_folds_to_exceed_height(initial_thickness, distance_to_proxima_centauri)\n",
        "\n",
        "# Calculate the length of paper required for these folds\n",
        "length_to_moon = calculate_paper_length(initial_thickness, folds_to_moon)\n",
        "length_to_mt_fuji = calculate_paper_length(initial_thickness, folds_to_mt_fuji)\n",
        "length_to_proxima_centauri = calculate_paper_length(initial_thickness, folds_to_proxima_centauri)\n",
        "\n",
        "print(f\"Length of paper required to reach the Moon: {length_to_moon} meters\")\n",
        "print(f\"Length of paper required to reach Mt. Fuji: {length_to_mt_fuji} meters\")\n",
        "print(f\"Length of paper required to reach Proxima Centauri: {length_to_proxima_centauri} meters\")"
      ],
      "metadata": {
        "colab": {
          "base_uri": "https://localhost:8080/"
        },
        "id": "_Ws70JxYeM2W",
        "outputId": "b16ac216-c2be-4724-a3ae-74982089c6dc"
      },
      "execution_count": 3,
      "outputs": [
        {
          "output_type": "stream",
          "name": "stdout",
          "text": [
            "Length of paper required to reach the Moon: 3.240919444170781e+21 meters\n",
            "Length of paper required to reach Mt. Fuji: 188646348487.24017 meters\n",
            "Length of paper required to reach Proxima Centauri: 1.4595803601100348e+37 meters\n"
          ]
        }
      ]
    },
    {
      "cell_type": "markdown",
      "source": [
        "**Comment**\n",
        "The formulation used to know how much paper is needed, i would like to use in another projects"
      ],
      "metadata": {
        "id": "4-5MTotxe4V-"
      }
    }
  ]
}